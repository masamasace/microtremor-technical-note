{
 "cells": [
  {
   "cell_type": "code",
   "source": "import numpy as np\nimport matplotlib.pyplot as plt\nfrom scipy import signal\nfrom scipy.special import j0  # 第1種0次ベッセル関数\nfrom scipy.optimize import curve_fit\nimport pandas as pd\nfrom datetime import datetime\nimport warnings\nwarnings.filterwarnings('ignore')\n\n# 日本語フォントの設定\nplt.rcParams['font.family'] = 'DejaVu Sans'\nplt.rcParams['axes.unicode_minus'] = False\n\nprint(\"ライブラリのインポートが完了しました！\")",
   "metadata": {},
   "outputs": []
  },
  {
   "cell_type": "markdown",
   "source": "## 1. 微動観測の基礎\n\n### 1.1 微動とは？\n微動は地盤に常時存在する微小な振動です。主な発生源は：\n- 海の波（0.1-1 Hz）\n- 交通振動（1-20 Hz）\n- 風、人間活動など\n\n### 1.2 なぜ微動を使うのか？\n- 人工的な振源が不要\n- 低周波数成分が豊富（深部構造の探査に有利）\n- 都市部でも観測可能\n\nまず、模擬的な微動データを生成してみましょう。",
   "metadata": {}
  },
  {
   "cell_type": "code",
   "source": "# 模擬微動データの生成\ndef generate_synthetic_microtremor(duration=300, fs=100, frequencies=[0.5, 1.0, 2.0, 5.0], \n                                  amplitudes=[1.0, 0.5, 0.3, 0.1]):\n    \"\"\"\n    合成微動データを生成する関数\n    \n    Parameters:\n    - duration: 記録時間 (秒)\n    - fs: サンプリング周波数 (Hz)\n    - frequencies: 含まれる周波数成分 (Hz)\n    - amplitudes: 各周波数成分の振幅\n    \"\"\"\n    t = np.arange(0, duration, 1/fs)\n    data = np.zeros(len(t))\n    \n    # 複数の正弦波を重ね合わせて微動を模擬\n    for f, a in zip(frequencies, amplitudes):\n        phase = np.random.rand() * 2 * np.pi\n        data += a * np.sin(2 * np.pi * f * t + phase)\n    \n    # ノイズを追加\n    data += 0.1 * np.random.randn(len(t))\n    \n    return t, data\n\n# データ生成と可視化\nt, microtremor = generate_synthetic_microtremor()\n\n# 時系列データの表示\nplt.figure(figsize=(12, 4))\nplt.subplot(1, 2, 1)\nplt.plot(t[:1000], microtremor[:1000])\nplt.xlabel('Time (s)')\nplt.ylabel('Amplitude')\nplt.title('Microtremor Time Series (First 10 seconds)')\nplt.grid(True)\n\n# スペクトルの計算と表示\nplt.subplot(1, 2, 2)\nf, psd = signal.welch(microtremor, fs=100, nperseg=1024)\nplt.semilogy(f, psd)\nplt.xlabel('Frequency (Hz)')\nplt.ylabel('PSD')\nplt.title('Power Spectral Density')\nplt.grid(True)\nplt.xlim(0, 10)\n\nplt.tight_layout()\nplt.show()",
   "metadata": {},
   "outputs": []
  },
  {
   "cell_type": "markdown",
   "source": "## 2. アレイ観測の概念\n\n微動アレイ観測では、複数の地震計を配置して同時観測を行います。\n一般的な配置：\n- 円形アレイ（中心＋円周上）\n- 三角形アレイ\n- L字型アレイ\n\nここでは、円形アレイを例に解析を進めます。",
   "metadata": {}
  },
  {
   "cell_type": "markdown",
   "source": "# 微動アレイ観測解析チュートリアル\n\nこのノートブックでは、微動アレイ観測データの解析手法を実践的に学びます。\n\n## 学習目標\n1. 微動観測の基本概念を理解する\n2. SPAC法による位相速度の推定方法を習得する\n3. 分散曲線から地下構造を推定する流れを理解する\n\n## 必要なライブラリ\nまず、必要なライブラリをインポートしましょう。",
   "metadata": {}
  }
 ],
 "metadata": {
  "kernelspec": {
   "display_name": "Python 3",
   "language": "python",
   "name": "python3"
  },
  "language_info": {
   "codemirror_mode": {
    "name": "ipython",
    "version": 3
   },
   "file_extension": ".py",
   "mimetype": "text/x-python",
   "name": "python",
   "nbconvert_exporter": "python",
   "pygments_lexer": "ipython3",
   "version": "3.8.0"
  }
 },
 "nbformat": 4,
 "nbformat_minor": 4
}