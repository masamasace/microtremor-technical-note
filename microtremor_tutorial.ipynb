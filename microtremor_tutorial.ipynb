{
 "cells": [
  {
   "cell_type": "code",
   "source": "import numpy as np\nimport matplotlib.pyplot as plt\nfrom scipy import signal\nfrom scipy.special import j0  # 第1種0次ベッセル関数\nfrom scipy.optimize import curve_fit\nimport pandas as pd\nfrom datetime import datetime\nimport warnings\nwarnings.filterwarnings('ignore')\n\n# 日本語フォントの設定\nplt.rcParams['font.family'] = 'DejaVu Sans'\nplt.rcParams['axes.unicode_minus'] = False\n\nprint(\"ライブラリのインポートが完了しました！\")",
   "metadata": {},
   "outputs": []
  },
  {
   "cell_type": "markdown",
   "source": "## 1. 微動観測の基礎\n\n### 1.1 微動とは？\n微動は地盤に常時存在する微小な振動です。主な発生源は：\n- 海の波（0.1-1 Hz）\n- 交通振動（1-20 Hz）\n- 風、人間活動など\n\n### 1.2 なぜ微動を使うのか？\n- 人工的な振源が不要\n- 低周波数成分が豊富（深部構造の探査に有利）\n- 都市部でも観測可能\n\nまず、模擬的な微動データを生成してみましょう。",
   "metadata": {}
  },
  {
   "cell_type": "markdown",
   "source": "### 表面波の分散性\n\n微動の主成分である表面波（レイリー波）の位相速度$c(f)$は周波数$f$に依存します：\n\n$$c(f) = f \\times \\lambda$$\n\n探査深度は波長$\\lambda$に比例し、おおよそ次の関係があります：\n\n$$\\text{探査深度} \\approx \\frac{\\lambda}{2} \\sim \\frac{\\lambda}{3}$$",
   "metadata": {}
  },
  {
   "cell_type": "code",
   "source": "# 模擬微動データの生成\ndef generate_synthetic_microtremor(duration=300, fs=100, frequencies=[0.5, 1.0, 2.0, 5.0], \n                                  amplitudes=[1.0, 0.5, 0.3, 0.1]):\n    \"\"\"\n    合成微動データを生成する関数\n    \n    Parameters:\n    - duration: 記録時間 (秒)\n    - fs: サンプリング周波数 (Hz)\n    - frequencies: 含まれる周波数成分 (Hz)\n    - amplitudes: 各周波数成分の振幅\n    \"\"\"\n    t = np.arange(0, duration, 1/fs)\n    data = np.zeros(len(t))\n    \n    # 複数の正弦波を重ね合わせて微動を模擬\n    for f, a in zip(frequencies, amplitudes):\n        phase = np.random.rand() * 2 * np.pi\n        data += a * np.sin(2 * np.pi * f * t + phase)\n    \n    # ノイズを追加\n    data += 0.1 * np.random.randn(len(t))\n    \n    return t, data\n\n# データ生成と可視化\nt, microtremor = generate_synthetic_microtremor()\n\n# 時系列データの表示\nplt.figure(figsize=(12, 4))\nplt.subplot(1, 2, 1)\nplt.plot(t[:1000], microtremor[:1000])\nplt.xlabel('Time (s)')\nplt.ylabel('Amplitude')\nplt.title('Microtremor Time Series (First 10 seconds)')\nplt.grid(True)\n\n# スペクトルの計算と表示\nplt.subplot(1, 2, 2)\nf, psd = signal.welch(microtremor, fs=100, nperseg=1024)\nplt.semilogy(f, psd)\nplt.xlabel('Frequency (Hz)')\nplt.ylabel('PSD')\nplt.title('Power Spectral Density')\nplt.grid(True)\nplt.xlim(0, 10)\n\nplt.tight_layout()\nplt.show()",
   "metadata": {},
   "outputs": []
  },
  {
   "cell_type": "markdown",
   "source": "## 2. アレイ観測の概念\n\n微動アレイ観測では、複数の地震計を配置して同時観測を行います。\n一般的な配置：\n- 円形アレイ（中心＋円周上）\n- 三角形アレイ\n- L字型アレイ\n\nここでは、円形アレイを例に解析を進めます。",
   "metadata": {}
  },
  {
   "cell_type": "code",
   "source": "# 円形アレイの配置を可視化\ndef plot_array_configuration(radius=50, n_stations=4):\n    \"\"\"円形アレイの配置を描画\"\"\"\n    fig, ax = plt.subplots(figsize=(6, 6))\n    \n    # 中心点\n    ax.scatter(0, 0, s=200, c='red', marker='s', label='Center')\n    ax.text(0, 5, 'C', ha='center', fontsize=12)\n    \n    # 円周上の観測点\n    angles = np.linspace(0, 2*np.pi, n_stations, endpoint=False)\n    for i, angle in enumerate(angles):\n        x = radius * np.cos(angle)\n        y = radius * np.sin(angle)\n        ax.scatter(x, y, s=200, c='blue', marker='^')\n        ax.text(x, y+5, f'S{i+1}', ha='center', fontsize=12)\n    \n    # 円を描画\n    circle = plt.Circle((0, 0), radius, fill=False, linestyle='--', color='gray')\n    ax.add_patch(circle)\n    \n    ax.set_xlim(-radius*1.3, radius*1.3)\n    ax.set_ylim(-radius*1.3, radius*1.3)\n    ax.set_aspect('equal')\n    ax.grid(True, alpha=0.3)\n    ax.set_xlabel('X (m)')\n    ax.set_ylabel('Y (m)')\n    ax.set_title(f'Circular Array Configuration (r={radius}m)')\n    ax.legend()\n    \n    return fig\n\n# アレイ配置の表示\nplot_array_configuration(radius=50, n_stations=4)\nplt.show()\n\n# 複数サイズのアレイ\nfig, axes = plt.subplots(1, 3, figsize=(15, 5))\nradii = [10, 50, 200]\nfor ax, r in zip(axes, radii):\n    plt.sca(ax)\n    plot_array_configuration(radius=r, n_stations=4)\n    ax.set_title(f'Array Size: {r}m\\\\nTarget Frequency: {100/r:.1f}-{500/r:.1f} Hz')\nplt.tight_layout()\nplt.show()",
   "metadata": {},
   "outputs": []
  },
  {
   "cell_type": "markdown",
   "source": "class SPACAnalysis:\n    \"\"\"SPAC法による解析クラス\"\"\"\n    \n    def __init__(self, data, fs, array_radius):\n        \"\"\"\n        Parameters:\n        - data: 観測データ (n_stations × n_samples)\n        - fs: サンプリング周波数\n        - array_radius: アレイ半径\n        \"\"\"\n        self.data = data\n        self.fs = fs\n        self.radius = array_radius\n        self.n_stations = data.shape[0]\n        \n    def compute_spac_coefficient(self, window_length=20, overlap=0.5):\n        \"\"\"空間自己相関係数を計算\"\"\"\n        \n        # 窓の設定\n        nperseg = int(window_length * self.fs)\n        noverlap = int(nperseg * overlap)\n        \n        # 中心点と周辺点のデータ\n        center_data = self.data[0, :]  # 中心点\n        \n        # 各周波数での空間自己相関係数を格納\n        spac_coeffs = []\n        \n        # 各周辺観測点との相関を計算\n        for i in range(1, self.n_stations):\n            # クロススペクトル密度の計算\n            f, Pxy = signal.csd(center_data, self.data[i, :], \n                               fs=self.fs, nperseg=nperseg, noverlap=noverlap)\n            \n            # オートスペクトル密度の計算\n            _, Pxx = signal.welch(center_data, fs=self.fs, \n                                 nperseg=nperseg, noverlap=noverlap)\n            _, Pyy = signal.welch(self.data[i, :], fs=self.fs, \n                                 nperseg=nperseg, noverlap=noverlap)\n            \n            # 空間自己相関係数\n            # ρ(r,f) = 2*Re[S12(f)] / sqrt(S11(f)*S22(f))\n            spac = np.real(Pxy) / np.sqrt(Pxx * Pyy)\n            spac_coeffs.append(spac)\n        \n        # 平均化\n        self.frequencies = f\n        self.spac_mean = np.mean(spac_coeffs, axis=0)\n        self.spac_std = np.std(spac_coeffs, axis=0)\n        \n        return self.frequencies, self.spac_mean, self.spac_std\n    \n    def estimate_phase_velocity(self, freq_range=(0.5, 10)):\n        \"\"\"ベッセル関数フィッティングによる位相速度推定\"\"\"\n        \n        # 解析する周波数範囲を限定\n        freq_mask = (self.frequencies >= freq_range[0]) & (self.frequencies <= freq_range[1])\n        freq_analysis = self.frequencies[freq_mask]\n        spac_analysis = self.spac_mean[freq_mask]\n        \n        phase_velocities = []\n        \n        for f, spac_val in zip(freq_analysis, spac_analysis):\n            if f == 0 or abs(spac_val) > 1:\n                phase_velocities.append(np.nan)\n                continue\n                \n            # ベッセル関数の零点を探索\n            # J0(2πfr/c) = spac_val を満たすcを探す\n            def bessel_func(c):\n                return j0(2 * np.pi * f * self.radius / c) - spac_val\n            \n            # 初期値の設定（探索範囲）\n            c_min = 50  # 最小位相速度 (m/s)\n            c_max = 1000  # 最大位相速度 (m/s)\n            \n            try:\n                from scipy.optimize import brentq\n                c = brentq(bessel_func, c_min, c_max)\n                phase_velocities.append(c)\n            except:\n                phase_velocities.append(np.nan)\n        \n        self.phase_velocities = np.array(phase_velocities)\n        self.freq_analysis = freq_analysis\n        \n        return freq_analysis, self.phase_velocities",
   "metadata": {},
   "outputs": []
  },
  {
   "cell_type": "code",
   "source": "class SPACAnalysis:\n    \"\"\"SPAC法による解析クラス\"\"\"\n    \n    def __init__(self, data, fs, array_radius):\n        \"\"\"\n        Parameters:\n        - data: 観測データ (n_stations × n_samples)\n        - fs: サンプリング周波数\n        - array_radius: アレイ半径\n        \"\"\"\n        self.data = data\n        self.fs = fs\n        self.radius = array_radius\n        self.n_stations = data.shape[0]\n        \n    def compute_spac_coefficient(self, window_length=20, overlap=0.5):\n        \"\"\"空間自己相関係数を計算\"\"\"\n        \n        # 窓の設定\n        nperseg = int(window_length * self.fs)\n        noverlap = int(nperseg * overlap)\n        \n        # 中心点と周辺点のデータ\n        center_data = self.data[0, :]  # 中心点\n        \n        # 各周波数での空間自己相関係数を格納\n        spac_coeffs = []\n        \n        # 各周辺観測点との相関を計算\n        for i in range(1, self.n_stations):\n            # クロススペクトル密度の計算\n            f, Pxy = signal.csd(center_data, self.data[i, :], \n                               fs=self.fs, nperseg=nperseg, noverlap=noverlap)\n            \n            # オートスペクトル密度の計算\n            _, Pxx = signal.welch(center_data, fs=self.fs, \n                                 nperseg=nperseg, noverlap=noverlap)\n            _, Pyy = signal.welch(self.data[i, :], fs=self.fs, \n                                 nperseg=nperseg, noverlap=noverlap)\n            \n            # 空間自己相関係数\n            spac = np.real(Pxy) / np.sqrt(Pxx * Pyy)\n            spac_coeffs.append(spac)\n        \n        # 平均化\n        self.frequencies = f\n        self.spac_mean = np.mean(spac_coeffs, axis=0)\n        self.spac_std = np.std(spac_coeffs, axis=0)\n        \n        return self.frequencies, self.spac_mean, self.spac_std\n    \n    def estimate_phase_velocity(self, freq_range=(0.5, 10)):\n        \"\"\"ベッセル関数フィッティングによる位相速度推定\"\"\"\n        \n        # 解析する周波数範囲を限定\n        freq_mask = (self.frequencies >= freq_range[0]) & (self.frequencies <= freq_range[1])\n        freq_analysis = self.frequencies[freq_mask]\n        spac_analysis = self.spac_mean[freq_mask]\n        \n        phase_velocities = []\n        \n        for f, spac_val in zip(freq_analysis, spac_analysis):\n            if f == 0 or abs(spac_val) > 1:\n                phase_velocities.append(np.nan)\n                continue\n                \n            # ベッセル関数の零点を探索\n            # J0(2πfr/c) = spac_val を満たすcを探す\n            def bessel_func(c):\n                return j0(2 * np.pi * f * self.radius / c) - spac_val\n            \n            # 初期値の設定（探索範囲）\n            c_min = 50  # 最小位相速度 (m/s)\n            c_max = 1000  # 最大位相速度 (m/s)\n            \n            try:\n                from scipy.optimize import brentq\n                c = brentq(bessel_func, c_min, c_max)\n                phase_velocities.append(c)\n            except:\n                phase_velocities.append(np.nan)\n        \n        self.phase_velocities = np.array(phase_velocities)\n        self.freq_analysis = freq_analysis\n        \n        return freq_analysis, self.phase_velocities",
   "metadata": {},
   "outputs": []
  },
  {
   "cell_type": "markdown",
   "source": "## 4. 実践：合成データでのSPAC解析\n\n実際の地下構造を想定した合成データを生成し、SPAC法を適用してみましょう。",
   "metadata": {}
  },
  {
   "cell_type": "code",
   "source": "# 合成アレイデータの生成\ndef generate_array_data(n_stations=5, array_radius=50, duration=300, fs=100):\n    \"\"\"\n    表面波を含む合成アレイデータを生成\n    \"\"\"\n    t = np.arange(0, duration, 1/fs)\n    data = np.zeros((n_stations, len(t)))\n    \n    # 表面波の特性（周波数と位相速度）\n    frequencies = [1.0, 2.0, 3.0, 5.0]\n    phase_velocities = [300, 250, 200, 150]  # 深さとともに速度増加を模擬\n    amplitudes = [1.0, 0.7, 0.5, 0.3]\n    \n    # 各観測点の位置（円形アレイ）\n    angles = np.linspace(0, 2*np.pi, n_stations-1, endpoint=False)\n    x_stations = [0] + [array_radius * np.cos(a) for a in angles]\n    y_stations = [0] + [array_radius * np.sin(a) for a in angles]\n    \n    # 各周波数成分について\n    for f, c, amp in zip(frequencies, phase_velocities, amplitudes):\n        # 波の進行方向（ランダム）\n        theta = np.random.rand() * 2 * np.pi\n        kx = 2 * np.pi * f / c * np.cos(theta)\n        ky = 2 * np.pi * f / c * np.sin(theta)\n        \n        # 各観測点での波形\n        for i, (x, y) in enumerate(zip(x_stations, y_stations)):\n            phase = kx * x + ky * y\n            data[i, :] += amp * np.sin(2 * np.pi * f * t - phase)\n    \n    # ノイズを追加\n    data += 0.1 * np.random.randn(*data.shape)\n    \n    return data, t\n\n# データ生成\narray_data, time = generate_array_data(n_stations=5, array_radius=50)\n\n# 生成したデータの可視化\nplt.figure(figsize=(12, 8))\nfor i in range(5):\n    plt.subplot(5, 1, i+1)\n    plt.plot(time[:500], array_data[i, :500])\n    plt.ylabel(f'Station {i}')\n    if i == 0:\n        plt.title('Synthetic Array Data (First 5 seconds)')\n    if i == 4:\n        plt.xlabel('Time (s)')\n    plt.grid(True, alpha=0.3)\n\nplt.tight_layout()\nplt.show()",
   "metadata": {},
   "outputs": []
  },
  {
   "cell_type": "code",
   "source": "# SPAC解析の実行\nspac = SPACAnalysis(array_data, fs=100, array_radius=50)\n\n# 空間自己相関係数の計算\nfreq, spac_coeff, spac_std = spac.compute_spac_coefficient(window_length=20)\n\n# 結果の可視化\nplt.figure(figsize=(12, 5))\n\n# 空間自己相関係数\nplt.subplot(1, 2, 1)\nplt.plot(freq, spac_coeff, 'b-', linewidth=2, label='SPAC coefficient')\nplt.fill_between(freq, spac_coeff - spac_std, spac_coeff + spac_std, \n                 alpha=0.3, color='blue', label='±1 std')\nplt.xlabel('Frequency (Hz)')\nplt.ylabel('SPAC Coefficient')\nplt.title('Spatial Autocorrelation Coefficient')\nplt.grid(True, alpha=0.3)\nplt.xlim(0, 10)\nplt.ylim(-0.5, 1.0)\nplt.legend()\n\n# ベッセル関数との比較\nplt.subplot(1, 2, 2)\n# いくつかの位相速度でベッセル関数を描画\nvelocities = [150, 200, 250, 300]\nfor v in velocities:\n    bessel_values = [j0(2 * np.pi * f * 50 / v) for f in freq]\n    plt.plot(freq, bessel_values, '--', alpha=0.5, label=f'v={v} m/s')\n\nplt.plot(freq, spac_coeff, 'b-', linewidth=2, label='Observed')\nplt.xlabel('Frequency (Hz)')\nplt.ylabel('SPAC Coefficient')\nplt.title('Comparison with Bessel Functions')\nplt.grid(True, alpha=0.3)\nplt.xlim(0, 10)\nplt.ylim(-0.5, 1.0)\nplt.legend()\n\nplt.tight_layout()\nplt.show()",
   "metadata": {},
   "outputs": []
  },
  {
   "cell_type": "markdown",
   "source": "### 理論分散曲線の計算\n\n簡易的な2層モデルでは、位相速度は以下のような特性を示します：\n\n- 高周波数（短波長）：第1層のS波速度$V_{s1}$に近づく\n- 低周波数（長波長）：第2層のS波速度$V_{s2}$に近づく\n\n波長$\\lambda$と層厚$h_1$の関係により、次のような遷移が起こります：\n\n$$c(f) = V_{s1} + (V_{s2} - V_{s1}) \\cdot \\left(1 - \\exp\\left(-\\frac{2h_1}{\\lambda}\\right)\\right)$$",
   "metadata": {}
  },
  {
   "cell_type": "code",
   "source": "# 位相速度の推定\nfreq_analysis, phase_vel = spac.estimate_phase_velocity(freq_range=(0.5, 6))\n\n# 分散曲線の表示\nplt.figure(figsize=(10, 6))\nplt.scatter(freq_analysis, phase_vel, s=50, c='blue', alpha=0.7, label='Estimated')\n\n# 真の値をプロット（検証用）\ntrue_freqs = [1.0, 2.0, 3.0, 5.0]\ntrue_vels = [300, 250, 200, 150]\nplt.plot(true_freqs, true_vels, 'r--', linewidth=2, marker='o', \n         markersize=8, label='True values')\n\nplt.xlabel('Frequency (Hz)')\nplt.ylabel('Phase Velocity (m/s)')\nplt.title('Dispersion Curve from SPAC Analysis')\nplt.grid(True, alpha=0.3)\nplt.legend()\nplt.xlim(0, 7)\nplt.ylim(0, 400)\n\n# 対数軸での表示も追加\nplt.figure(figsize=(10, 6))\nplt.loglog(1/freq_analysis, phase_vel, 'bo-', markersize=6, label='Estimated')\nplt.loglog(1/np.array(true_freqs), true_vels, 'r--', linewidth=2, \n           marker='s', markersize=8, label='True values')\nplt.xlabel('Period (s)')\nplt.ylabel('Phase Velocity (m/s)')\nplt.title('Dispersion Curve (Log-Log Scale)')\nplt.grid(True, which=\"both\", alpha=0.3)\nplt.legend()\nplt.xlim(0.1, 10)\nplt.ylim(100, 500)\n\nplt.show()",
   "metadata": {},
   "outputs": []
  },
  {
   "cell_type": "markdown",
   "source": "## 5. 地下構造の推定\n\n分散曲線から地下構造（S波速度構造）を推定します。\n簡単な2層モデルを例に、理論分散曲線の計算方法を示します。",
   "metadata": {}
  },
  {
   "cell_type": "code",
   "source": "def simple_dispersion_curve(frequencies, h1, vs1, vs2):\n    \"\"\"\n    簡単な2層モデルの理論分散曲線を計算\n    \n    Parameters:\n    - frequencies: 周波数配列\n    - h1: 第1層の層厚 (m)\n    - vs1: 第1層のS波速度 (m/s)\n    - vs2: 第2層（半無限）のS波速度 (m/s)\n    \n    Returns:\n    - phase_velocities: 位相速度配列\n    \"\"\"\n    phase_velocities = []\n    \n    for f in frequencies:\n        # 波長\n        lambda_min = vs1 / f\n        lambda_max = vs2 / f\n        \n        # 簡易的な推定式（実際はより複雑）\n        # 浅い深度では vs1 に近く、深い深度では vs2 に近づく\n        depth_factor = 1 - np.exp(-2 * h1 / lambda_min)\n        c = vs1 + (vs2 - vs1) * depth_factor\n        \n        phase_velocities.append(c)\n    \n    return np.array(phase_velocities)\n\n# パラメータスタディ\nfig, axes = plt.subplots(2, 2, figsize=(12, 10))\n\n# 周波数配列\nf_theory = np.linspace(0.1, 10, 100)\n\n# 1. 層厚の影響\nax = axes[0, 0]\nfor h in [5, 10, 20, 40]:\n    c_theory = simple_dispersion_curve(f_theory, h, 150, 300)\n    ax.plot(f_theory, c_theory, label=f'h1={h}m')\nax.set_xlabel('Frequency (Hz)')\nax.set_ylabel('Phase Velocity (m/s)')\nax.set_title('Effect of Layer Thickness')\nax.legend()\nax.grid(True, alpha=0.3)\n\n# 2. 第1層速度の影響\nax = axes[0, 1]\nfor vs1 in [100, 150, 200, 250]:\n    c_theory = simple_dispersion_curve(f_theory, 20, vs1, 400)\n    ax.plot(f_theory, c_theory, label=f'Vs1={vs1}m/s')\nax.set_xlabel('Frequency (Hz)')\nax.set_ylabel('Phase Velocity (m/s)')\nax.set_title('Effect of Layer 1 Velocity')\nax.legend()\nax.grid(True, alpha=0.3)\n\n# 3. 第2層速度の影響\nax = axes[1, 0]\nfor vs2 in [300, 400, 500, 600]:\n    c_theory = simple_dispersion_curve(f_theory, 20, 150, vs2)\n    ax.plot(f_theory, c_theory, label=f'Vs2={vs2}m/s')\nax.set_xlabel('Frequency (Hz)')\nax.set_ylabel('Phase Velocity (m/s)')\nax.set_title('Effect of Layer 2 Velocity')\nax.legend()\nax.grid(True, alpha=0.3)\n\n# 4. 観測データとのフィッティング例\nax = axes[1, 1]\n# 観測データ（先ほどの結果を使用）\nvalid_mask = ~np.isnan(phase_vel)\nax.scatter(freq_analysis[valid_mask], phase_vel[valid_mask], \n          s=50, c='blue', alpha=0.7, label='Observed')\n\n# いくつかのモデルを試す\nmodels = [\n    (10, 180, 280, 'Model 1'),\n    (15, 160, 300, 'Model 2'),\n    (20, 150, 320, 'Model 3')\n]\n\nfor h, vs1, vs2, label in models:\n    c_theory = simple_dispersion_curve(freq_analysis, h, vs1, vs2)\n    ax.plot(freq_analysis, c_theory, '--', linewidth=2, label=label)\n\nax.set_xlabel('Frequency (Hz)')\nax.set_ylabel('Phase Velocity (m/s)')\nax.set_title('Model Fitting Example')\nax.legend()\nax.grid(True, alpha=0.3)\nax.set_xlim(0, 6)\nax.set_ylim(100, 400)\n\nplt.tight_layout()\nplt.show()",
   "metadata": {},
   "outputs": []
  },
  {
   "cell_type": "markdown",
   "source": "## 6. 実践演習\n\n以下の演習問題に取り組んでみましょう：\n\n### 演習1：ノイズの影響\n異なるノイズレベルでのSPAC解析の安定性を調べてください。\n\n### 演習2：アレイサイズの検討\n異なるアレイサイズ（半径）での解析可能周波数範囲を調べてください。\n\n### 演習3：観測点数の影響\n観測点数を変えた場合の解析精度を評価してください。",
   "metadata": {}
  },
  {
   "cell_type": "code",
   "source": "# 演習1の解答例：ノイズの影響\ndef analyze_noise_effect(noise_levels=[0.01, 0.05, 0.1, 0.2, 0.5]):\n    \"\"\"異なるノイズレベルでのSPAC解析\"\"\"\n    \n    fig, axes = plt.subplots(2, len(noise_levels), figsize=(15, 8))\n    \n    for idx, noise_level in enumerate(noise_levels):\n        # データ生成（ノイズレベルを変更）\n        t = np.arange(0, 300, 0.01)\n        data = np.zeros((5, len(t)))\n        \n        # 表面波成分\n        frequencies = [1.0, 2.0, 3.0, 5.0]\n        phase_velocities = [300, 250, 200, 150]\n        \n        for i in range(5):\n            for f, c in zip(frequencies, phase_velocities):\n                phase = 2 * np.pi * f * i * 50 / (4 * c)  # 簡易的な位相差\n                data[i, :] += np.sin(2 * np.pi * f * t - phase)\n        \n        # ノイズ追加\n        data += noise_level * np.random.randn(*data.shape)\n        \n        # SPAC解析\n        spac = SPACAnalysis(data, fs=100, array_radius=50)\n        freq, spac_coeff, _ = spac.compute_spac_coefficient()\n        \n        # プロット\n        ax1 = axes[0, idx]\n        ax1.plot(t[:100], data[0, :100])\n        ax1.set_title(f'Noise Level: {noise_level}')\n        ax1.set_xlabel('Time (s)')\n        ax1.set_ylabel('Amplitude')\n        \n        ax2 = axes[1, idx]\n        ax2.plot(freq, spac_coeff)\n        ax2.set_xlabel('Frequency (Hz)')\n        ax2.set_ylabel('SPAC Coefficient')\n        ax2.set_xlim(0, 10)\n        ax2.set_ylim(-0.5, 1)\n        ax2.grid(True, alpha=0.3)\n    \n    plt.tight_layout()\n    plt.show()\n\n# 演習1の実行\nprint(\"演習1: ノイズレベルの影響\")\nanalyze_noise_effect()",
   "metadata": {},
   "outputs": []
  },
  {
   "cell_type": "markdown",
   "source": "## 7. まとめと実践のポイント\n\n### 重要なポイント\n1. **アレイサイズの選択**：対象とする周波数帯域に応じて適切に選ぶ\n2. **観測時間**：統計的に安定した結果を得るため、20-30分以上の観測を推奨\n3. **データ品質管理**：過渡的なノイズの除去、機器の同期が重要\n4. **解の非唯一性**：異なる地下構造モデルが同じ分散曲線を示す可能性がある\n\n### 次のステップ\n1. 実データの解析に挑戦\n2. FK法など他の解析手法の習得\n3. 逆解析手法（遺伝的アルゴリズムなど）の実装\n4. 3次元構造への拡張\n\n### 参考資料\n- Okada, H. (2003): The Microtremor Survey Method\n- 物理探査学会 (2008): 物理探査ハンドブック\n- Geopsy プロジェクト: http://www.geopsy.org/",
   "metadata": {}
  },
  {
   "cell_type": "markdown",
   "source": "# 微動アレイ観測解析チュートリアル\n\nこのノートブックでは、微動アレイ観測データの解析手法を実践的に学びます。\n\n## 学習目標\n1. 微動観測の基本概念を理解する\n2. SPAC法による位相速度の推定方法を習得する\n3. 分散曲線から地下構造を推定する流れを理解する\n\n## 必要なライブラリ\nまず、必要なライブラリをインポートしましょう。",
   "metadata": {}
  }
 ],
 "metadata": {
  "kernelspec": {
   "display_name": "Python 3",
   "language": "python",
   "name": "python3"
  },
  "language_info": {
   "codemirror_mode": {
    "name": "ipython",
    "version": 3
   },
   "file_extension": ".py",
   "mimetype": "text/x-python",
   "name": "python",
   "nbconvert_exporter": "python",
   "pygments_lexer": "ipython3",
   "version": "3.8.0"
  }
 },
 "nbformat": 4,
 "nbformat_minor": 4
}