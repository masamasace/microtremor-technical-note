{
 "cells": [
  {
   "cell_type": "code",
   "metadata": {},
   "outputs": [],
   "source": "import numpy as np\nimport matplotlib.pyplot as plt\nfrom scipy import signal\nfrom scipy.special import j0  # 第1種0次ベッセル関数\nfrom scipy.optimize import curve_fit\nimport pandas as pd\nfrom datetime import datetime\nimport warnings\nwarnings.filterwarnings('ignore')\n\n# Set matplotlib to use default settings\nplt.rcParams.update(plt.rcParamsDefault)\n\nprint(\"Library import completed!\")"
  },
  {
   "cell_type": "markdown",
   "metadata": {},
   "source": "## 1. 微動観測の基礎\n\n### 1.1 微動とは？\n微動（microtremor）は地盤に常時存在する微小な振動です。主な発生源は：\n- 海洋波浪（脈動：0.1-1 Hz）\n- 交通振動（1-20 Hz）\n- 風による構造物の振動\n- 人間活動による振動\n\n### 1.2 地震波の種類\n\n地震波は大きく**実体波**（body waves）と**表面波**（surface waves）に分類されます。\n\n#### 実体波\n- **P波（Primary wave）**：縦波、速度 $v_p = \\sqrt{\\frac{\\lambda + 2\\mu}{\\rho}}$\n- **S波（Secondary wave）**：横波、速度 $v_s = \\sqrt{\\frac{\\mu}{\\rho}}$\n\n#### 表面波\n- **レイリー波（Rayleigh wave）**：鉛直面内での楕円運動、微動の主成分（約70%）、速度：約$0.92v_s$（ポアソン比0.25の場合）\n- **ラブ波（Love wave）**：水平面内での振動\n\n### 1.3 なぜ微動を使うのか？\n- 人工的な振源が不要\n- 低周波数成分が豊富（深部構造の探査に有利）\n- 都市部でも観測可能",
   "outputs": []
  },
  {
   "cell_type": "code",
   "source": "# 位相速度と群速度の違いを可視化\ndef visualize_phase_group_velocity():\n    \"\"\"\n    2つの正弦波の重ね合わせによる位相速度と群速度の違いを示す\n    u(x,t) = sin(k₁x - ω₁t) + sin(k₂x - ω₂t)\n           = 2cos(Δk·x - Δω·t)sin(kx - ωt)\n    \"\"\"\n    \n    # パラメータ設定\n    k1, k2 = 1.0, 1.2  # 波数\n    omega1, omega2 = 2.0, 2.4  # 角周波数\n    k = (k1 + k2) / 2\n    omega = (omega1 + omega2) / 2\n    dk = (k2 - k1) / 2\n    domega = (omega2 - omega1) / 2\n    \n    # 位相速度と群速度\n    c_phase = omega / k  # 位相速度\n    c_group = domega / dk  # 群速度\n    \n    # 時間と空間の配列\n    x = np.linspace(0, 50, 1000)\n    \n    fig, axes = plt.subplots(3, 1, figsize=(12, 10))\n    \n    for idx, t_val in enumerate([0, 1, 2]):\n        ax = axes[idx]\n        \n        # 2つの波の重ね合わせ\n        wave1 = np.sin(k1 * x - omega1 * t_val)\n        wave2 = np.sin(k2 * x - omega2 * t_val)\n        combined = wave1 + wave2\n        \n        # 包絡線（群速度で移動）\n        envelope = 2 * np.cos(dk * x - domega * t_val)\n        \n        # 搬送波（位相速度で移動）\n        carrier = np.sin(k * x - omega * t_val)\n        \n        # プロット\n        ax.plot(x, combined, 'b-', alpha=0.7, label='Combined wave')\n        ax.plot(x, envelope, 'r-', linewidth=2, label='Envelope (Group velocity)')\n        ax.plot(x, -envelope, 'r-', linewidth=2)\n        ax.fill_between(x, envelope, -envelope, alpha=0.2, color='red')\n        \n        # 位相の追跡点\n        phase_pos = c_phase * t_val\n        group_pos = c_group * t_val\n        \n        # 位相速度と群速度の位置を表示\n        if phase_pos < 50:\n            ax.axvline(phase_pos, color='green', linestyle='--', \n                      label=f'Phase velocity = {c_phase:.2f}' if idx == 0 else '')\n        if group_pos < 50:\n            ax.axvline(group_pos, color='orange', linestyle='--', \n                      label=f'Group velocity = {c_group:.2f}' if idx == 0 else '')\n        \n        ax.set_ylabel('Amplitude')\n        ax.set_title(f't = {t_val} s')\n        ax.grid(True, alpha=0.3)\n        ax.set_xlim(0, 50)\n        ax.set_ylim(-2.5, 2.5)\n        \n        if idx == 0:\n            ax.legend()\n        if idx == 2:\n            ax.set_xlabel('Distance (m)')\n    \n    plt.tight_layout()\n    plt.suptitle('Phase Velocity vs Group Velocity: $u(x,t) = 2\\\\cos(\\\\Delta k \\\\cdot x - \\\\Delta\\\\omega \\\\cdot t)\\\\sin(kx - \\\\omega t)$', \n                 y=1.02, fontsize=14)\n    plt.show()\n\n# デモンストレーションの実行\nvisualize_phase_group_velocity()",
   "metadata": {},
   "outputs": []
  },
  {
   "cell_type": "markdown",
   "metadata": {},
   "source": "## 2. 位相速度と群速度\n\n### 2.1 位相速度（Phase velocity）\n位相速度$c$は、単一周波数の波の位相が伝播する速度：\n\n$$c = \\frac{\\omega}{k} = f\\lambda$$\n\n### 2.2 群速度（Group velocity）\n群速度$U$は、波束（エネルギー）が伝播する速度：\n\n$$U = \\frac{d\\omega}{dk} = c - \\lambda\\frac{dc}{d\\lambda}$$\n\n### 2.3 分散性媒質での波の伝播\n媒質が不均質な場合、位相速度は周波数に依存し（分散性）、これにより地下構造の推定が可能となる。",
   "outputs": []
  },
  {
   "cell_type": "code",
   "metadata": {},
   "outputs": [],
   "source": "# 模擬微動データの生成\ndef generate_synthetic_microtremor(duration=300, fs=100, frequencies=[0.5, 1.0, 2.0, 5.0], \n                                  amplitudes=[1.0, 0.5, 0.3, 0.1]):\n    \"\"\"\n    合成微動データを生成する関数\n    \n    Parameters:\n    - duration: 記録時間 (秒)\n    - fs: サンプリング周波数 (Hz)\n    - frequencies: 含まれる周波数成分 (Hz)\n    - amplitudes: 各周波数成分の振幅\n    \"\"\"\n    t = np.arange(0, duration, 1/fs)\n    data = np.zeros(len(t))\n    \n    # 複数の正弦波を重ね合わせて微動を模擬\n    for f, a in zip(frequencies, amplitudes):\n        phase = np.random.rand() * 2 * np.pi\n        data += a * np.sin(2 * np.pi * f * t + phase)\n    \n    # ノイズを追加\n    data += 0.1 * np.random.randn(len(t))\n    \n    return t, data\n\n# データ生成と可視化\nt, microtremor = generate_synthetic_microtremor()\n\n# 時系列データの表示\nplt.figure(figsize=(12, 4))\nplt.subplot(1, 2, 1)\nplt.plot(t[:1000], microtremor[:1000])\nplt.xlabel('Time (s)')\nplt.ylabel('Amplitude')\nplt.title('Microtremor Time Series (First 10 seconds)')\nplt.grid(True)\n\n# スペクトルの計算と表示\nplt.subplot(1, 2, 2)\nf, psd = signal.welch(microtremor, fs=100, nperseg=1024)\nplt.semilogy(f, psd)\nplt.xlabel('Frequency (Hz)')\nplt.ylabel('Power Spectral Density')\nplt.title('Power Spectral Density')\nplt.grid(True)\nplt.xlim(0, 10)\n\nplt.tight_layout()\nplt.show()"
  },
  {
   "cell_type": "markdown",
   "metadata": {},
   "source": [
    "## 2. アレイ観測の概念\n",
    "\n",
    "微動アレイ観測では、複数の地震計を配置して同時観測を行います。\n",
    "一般的な配置：\n",
    "- 円形アレイ（中心＋円周上）\n",
    "- 三角形アレイ\n",
    "- L字型アレイ\n",
    "\n",
    "ここでは、円形アレイを例に解析を進めます。"
   ]
  },
  {
   "cell_type": "code",
   "metadata": {},
   "outputs": [],
   "source": "# 円形アレイの配置を可視化\ndef plot_array_configuration(radius=50, n_stations=4):\n    \"\"\"円形アレイの配置を描画\"\"\"\n    fig, ax = plt.subplots(figsize=(6, 6))\n    \n    # 中心点\n    ax.scatter(0, 0, s=200, c='red', marker='s', label='Center')\n    ax.text(0, 5, 'C', ha='center', fontsize=12)\n    \n    # 円周上の観測点\n    angles = np.linspace(0, 2*np.pi, n_stations, endpoint=False)\n    for i, angle in enumerate(angles):\n        x = radius * np.cos(angle)\n        y = radius * np.sin(angle)\n        ax.scatter(x, y, s=200, c='blue', marker='^')\n        ax.text(x, y+5, f'S{i+1}', ha='center', fontsize=12)\n    \n    # 円を描画\n    circle = plt.Circle((0, 0), radius, fill=False, linestyle='--', color='gray')\n    ax.add_patch(circle)\n    \n    ax.set_xlim(-radius*1.3, radius*1.3)\n    ax.set_ylim(-radius*1.3, radius*1.3)\n    ax.set_aspect('equal')\n    ax.grid(True, alpha=0.3)\n    ax.set_xlabel('X (m)')\n    ax.set_ylabel('Y (m)')\n    ax.set_title(f'Circular Array Configuration (r={radius}m)')\n    ax.legend()\n    \n    return fig\n\n# アレイ配置の表示\nplot_array_configuration(radius=50, n_stations=4)\nplt.show()\n\n# 複数サイズのアレイ\nfig, axes = plt.subplots(1, 3, figsize=(15, 5))\nradii = [10, 50, 200]\nfor ax, r in zip(axes, radii):\n    plt.sca(ax)\n    plot_array_configuration(radius=r, n_stations=4)\n    ax.set_title(f'Array Size: {r}m\\nTarget Frequency: {100/r:.1f}-{500/r:.1f} Hz')\nplt.tight_layout()\nplt.show()"
  },
  {
   "cell_type": "code",
   "source": "# SPAC法の原理を可視化\ndef visualize_spac_principle():\n    \"\"\"空間相関と位相速度の関係を可視化\"\"\"\n    \n    fig, axes = plt.subplots(2, 2, figsize=(14, 10))\n    \n    # 1. 異なる観測点間距離での波形の相関\n    ax = axes[0, 0]\n    t = np.linspace(0, 2, 500)\n    wavelength = 1.0\n    \n    for i, dist_ratio in enumerate([0, 0.25, 0.5, 1.0]):\n        distance = dist_ratio * wavelength\n        phase_diff = 2 * np.pi * distance / wavelength\n        \n        wave1 = np.sin(2 * np.pi * t)\n        wave2 = np.sin(2 * np.pi * t - phase_diff)\n        \n        offset = i * 3\n        ax.plot(t, wave1 + offset, 'b-', alpha=0.7)\n        ax.plot(t, wave2 + offset, 'r-', alpha=0.7)\n        ax.text(2.1, offset, f'$r/\\\\lambda$ = {dist_ratio:.2f}', fontsize=10)\n        \n        # 相関係数\n        corr = np.cos(phase_diff)\n        ax.text(2.5, offset, f'$\\\\rho$ = {corr:.2f}', fontsize=10, color='green')\n    \n    ax.set_xlabel('Time (s)')\n    ax.set_ylabel('Amplitude')\n    ax.set_title('Waveform Correlation at Different Distances')\n    ax.grid(True, alpha=0.3)\n    \n    # 2. ベッセル関数の形状\n    ax = axes[0, 1]\n    x = np.linspace(0, 15, 1000)\n    y = j0(x)\n    ax.plot(x, y, 'b-', linewidth=2)\n    ax.axhline(0, color='k', linewidth=0.5)\n    ax.axvline(2.4048, color='r', linestyle='--', label='1st zero (2.405)')\n    ax.axvline(5.5201, color='r', linestyle='--', alpha=0.5, label='2nd zero (5.520)')\n    ax.set_xlabel('$2\\\\pi rf/c$')\n    ax.set_ylabel('$J_0(2\\\\pi rf/c)$')\n    ax.set_title('Bessel Function of the First Kind (Order 0)')\n    ax.grid(True, alpha=0.3)\n    ax.legend()\n    ax.set_ylim(-0.5, 1.1)\n    \n    # 3. 周波数による相関係数の変化\n    ax = axes[1, 0]\n    frequencies = np.linspace(0.1, 10, 100)\n    r = 50  # 観測点間距離\n    \n    for c in [100, 200, 300, 400]:\n        spac_coeff = [j0(2 * np.pi * f * r / c) for f in frequencies]\n        ax.plot(frequencies, spac_coeff, label=f'c = {c} m/s')\n    \n    ax.set_xlabel('Frequency (Hz)')\n    ax.set_ylabel('SPAC Coefficient')\n    ax.set_title('SPAC Coefficient vs Frequency for Different Velocities')\n    ax.grid(True, alpha=0.3)\n    ax.legend()\n    ax.set_ylim(-0.5, 1.1)\n    \n    # 4. 簡易推定法のデモ\n    ax = axes[1, 1]\n    r_values = np.array([10, 20, 50, 100])  # 異なるアレイ半径\n    c_true = 250  # 真の位相速度\n    \n    for r in r_values:\n        # 第1ゼロ点の周波数\n        f0 = c_true * 2.4048 / (2 * np.pi * r)\n        # 簡易推定による位相速度\n        c_est = 2.6 * r * f0\n        \n        ax.scatter(r, f0, s=100, label=f'r={r}m')\n        ax.text(r+2, f0, f'$c\\\\approx${c_est:.0f}m/s', fontsize=9)\n    \n    ax.set_xlabel('Array Radius (m)')\n    ax.set_ylabel('First Zero Frequency (Hz)')\n    ax.set_title(f'Simple Estimation Method (True velocity: {c_true} m/s)')\n    ax.grid(True, alpha=0.3)\n    ax.legend()\n    \n    plt.tight_layout()\n    plt.show()\n\n# 原理の可視化\nvisualize_spac_principle()",
   "metadata": {},
   "outputs": []
  },
  {
   "cell_type": "markdown",
   "metadata": {},
   "source": "## 3. SPAC法（空間自己相関法）の実装\n\nSPAC法は、アレイ観測データから表面波の位相速度を推定する手法です。\n\n### 3.1 なぜ空間相関から位相速度が推定できるのか？\n\n#### 直感的な理解\n2つの観測点で同じ波を観測する場合：\n- **観測点間距離が波長の整数倍**：波形が完全に一致（相関係数 = 1）\n- **観測点間距離が波長の半整数倍**：波形が逆位相（相関係数 = -1）\n- **その他の距離**：中間的な相関値\n\n#### 数学的な表現\n等方的な波動場を仮定すると、空間自己相関係数は第1種0次ベッセル関数で表現されます：\n\n$$\\rho(r, f) = J_0\\left(\\frac{2\\pi rf}{c(f)}\\right)$$\n\nここで：\n- $r$：観測点間距離\n- $f$：周波数\n- $c(f)$：位相速度\n- $J_0$：第1種0次ベッセル関数\n\n### 3.2 簡易推定法\nベッセル関数の第1ゼロ点（$J_0(2.405) \\approx 0$）を利用すると：\n\n$$c \\approx 2.6 \\cdot rf_0$$\n\nここで $f_0$ は相関係数が初めてゼロになる周波数です。",
   "outputs": []
  },
  {
   "cell_type": "markdown",
   "source": "## 3.5 データ前処理と品質管理\n\n実際の解析では、データの前処理と品質管理が非常に重要です。\n\n### 前処理の手順：\n1. **機器応答の補正**\n2. **トレンド除去**（線形・多項式）\n3. **バンドパスフィルタの適用**\n4. **テーパー処理**（窓関数の適用）\n5. **過渡的ノイズの除去**\n\n### 品質評価指標：\n- **信号対雑音比（SNR）**\n- **コヒーレンス**\n- **空間自己相関係数の標準偏差**",
   "metadata": {}
  },
  {
   "cell_type": "code",
   "source": "class MicrotremorPreprocessor:\n    \"\"\"微動データの前処理クラス\"\"\"\n    \n    def __init__(self, data, fs):\n        \"\"\"\n        Parameters:\n        - data: 観測データ (n_stations × n_samples)\n        - fs: サンプリング周波数\n        \"\"\"\n        self.data = np.array(data)\n        self.fs = fs\n        self.n_stations = data.shape[0]\n        self.n_samples = data.shape[1]\n        \n    def detrend(self, type='linear'):\n        \"\"\"トレンド除去\"\"\"\n        detrended = np.zeros_like(self.data)\n        for i in range(self.n_stations):\n            detrended[i, :] = signal.detrend(self.data[i, :], type=type)\n        return detrended\n    \n    def apply_taper(self, alpha=0.05):\n        \"\"\"テーパー処理（Tukey窓）\"\"\"\n        tapered = np.zeros_like(self.data)\n        window = signal.tukey(self.n_samples, alpha=alpha)\n        for i in range(self.n_stations):\n            tapered[i, :] = self.data[i, :] * window\n        return tapered\n    \n    def bandpass_filter(self, freqmin, freqmax, corners=4):\n        \"\"\"バンドパスフィルタ\"\"\"\n        nyquist = 0.5 * self.fs\n        low = freqmin / nyquist\n        high = freqmax / nyquist\n        \n        b, a = signal.butter(corners, [low, high], btype='band')\n        filtered = np.zeros_like(self.data)\n        \n        for i in range(self.n_stations):\n            filtered[i, :] = signal.filtfilt(b, a, self.data[i, :])\n            \n        return filtered\n    \n    def remove_transients(self, threshold=3.0):\n        \"\"\"過渡的ノイズの検出と除去\"\"\"\n        # 各観測点のRMS振幅を計算\n        rms = np.sqrt(np.mean(self.data**2, axis=1))\n        median_rms = np.median(rms)\n        \n        # 閾値を超える観測点を検出\n        bad_stations = rms > median_rms * threshold\n        \n        # マスク処理\n        cleaned_data = self.data.copy()\n        cleaned_data[bad_stations, :] = np.nan\n        \n        return cleaned_data, bad_stations\n    \n    def compute_snr(self, signal_band=(1, 5), noise_band=(10, 20)):\n        \"\"\"信号対雑音比（SNR）の計算\"\"\"\n        # 信号帯域のパワー\n        signal_data = self.bandpass_filter(signal_band[0], signal_band[1])\n        signal_power = np.mean(signal_data**2, axis=1)\n        \n        # ノイズ帯域のパワー\n        noise_data = self.bandpass_filter(noise_band[0], noise_band[1])\n        noise_power = np.mean(noise_data**2, axis=1)\n        \n        # SNR (dB)\n        snr_db = 10 * np.log10(signal_power / noise_power)\n        \n        return snr_db\n\n# 前処理のデモンストレーション\ndef demonstrate_preprocessing():\n    \"\"\"前処理の効果を可視化\"\"\"\n    \n    # ノイズを含む合成データの生成\n    t = np.linspace(0, 60, 6000)\n    fs = 100\n    n_stations = 3\n    \n    # 基本信号\n    data = np.zeros((n_stations, len(t)))\n    for i in range(n_stations):\n        # 信号成分\n        data[i, :] = np.sin(2*np.pi*2*t) + 0.5*np.sin(2*np.pi*5*t)\n        # トレンド追加\n        data[i, :] += 0.001 * t\n        # スパイクノイズ追加（観測点2のみ）\n        if i == 1:\n            data[i, 3000:3010] += 10\n        # ランダムノイズ\n        data[i, :] += 0.2 * np.random.randn(len(t))\n    \n    # 前処理\n    preprocessor = MicrotremorPreprocessor(data, fs)\n    \n    # 各ステップの適用\n    data_detrended = preprocessor.detrend()\n    data_filtered = preprocessor.bandpass_filter(0.5, 10)\n    data_tapered = preprocessor.apply_taper(alpha=0.1)\n    \n    # 可視化\n    fig, axes = plt.subplots(4, 1, figsize=(12, 10))\n    \n    # 元データ\n    ax = axes[0]\n    for i in range(n_stations):\n        ax.plot(t[:1000], data[i, :1000] + i*5, label=f'Station {i}')\n    ax.set_ylabel('Original Data')\n    ax.set_title('Preprocessing Steps')\n    ax.legend()\n    \n    # トレンド除去後\n    ax = axes[1]\n    preprocessor.data = data_detrended\n    for i in range(n_stations):\n        ax.plot(t[:1000], data_detrended[i, :1000] + i*5)\n    ax.set_ylabel('After Detrending')\n    \n    # フィルタ適用後\n    ax = axes[2]\n    for i in range(n_stations):\n        ax.plot(t[:1000], data_filtered[i, :1000] + i*5)\n    ax.set_ylabel('After Bandpass')\n    \n    # SNR計算\n    ax = axes[3]\n    preprocessor.data = data_filtered\n    snr = preprocessor.compute_snr()\n    ax.bar(range(n_stations), snr)\n    ax.set_xlabel('Station Number')\n    ax.set_ylabel('SNR (dB)')\n    ax.set_title('Signal-to-Noise Ratio')\n    ax.axhline(10, color='r', linestyle='--', label='Recommended Threshold')\n    ax.legend()\n    \n    for ax in axes[:-1]:\n        ax.set_xlim(0, 10)\n        ax.grid(True, alpha=0.3)\n    \n    plt.tight_layout()\n    plt.show()\n\n# デモンストレーションの実行\ndemonstrate_preprocessing()",
   "metadata": {},
   "outputs": []
  },
  {
   "cell_type": "code",
   "execution_count": null,
   "metadata": {},
   "outputs": [],
   "source": [
    "class SPACAnalysis:\n",
    "    \"\"\"SPAC法による解析クラス\"\"\"\n",
    "    \n",
    "    def __init__(self, data, fs, array_radius):\n",
    "        \"\"\"\n",
    "        Parameters:\n",
    "        - data: 観測データ (n_stations × n_samples)\n",
    "        - fs: サンプリング周波数\n",
    "        - array_radius: アレイ半径\n",
    "        \"\"\"\n",
    "        self.data = data\n",
    "        self.fs = fs\n",
    "        self.radius = array_radius\n",
    "        self.n_stations = data.shape[0]\n",
    "        \n",
    "    def compute_spac_coefficient(self, window_length=20, overlap=0.5):\n",
    "        \"\"\"空間自己相関係数を計算\"\"\"\n",
    "        \n",
    "        # 窓の設定\n",
    "        nperseg = int(window_length * self.fs)\n",
    "        noverlap = int(nperseg * overlap)\n",
    "        \n",
    "        # 中心点と周辺点のデータ\n",
    "        center_data = self.data[0, :]  # 中心点\n",
    "        \n",
    "        # 各周波数での空間自己相関係数を格納\n",
    "        spac_coeffs = []\n",
    "        \n",
    "        # 各周辺観測点との相関を計算\n",
    "        for i in range(1, self.n_stations):\n",
    "            # クロススペクトル密度の計算\n",
    "            f, Pxy = signal.csd(center_data, self.data[i, :], \n",
    "                               fs=self.fs, nperseg=nperseg, noverlap=noverlap)\n",
    "            \n",
    "            # オートスペクトル密度の計算\n",
    "            _, Pxx = signal.welch(center_data, fs=self.fs, \n",
    "                                 nperseg=nperseg, noverlap=noverlap)\n",
    "            _, Pyy = signal.welch(self.data[i, :], fs=self.fs, \n",
    "                                 nperseg=nperseg, noverlap=noverlap)\n",
    "            \n",
    "            # 空間自己相関係数\n",
    "            spac = np.real(Pxy) / np.sqrt(Pxx * Pyy)\n",
    "            spac_coeffs.append(spac)\n",
    "        \n",
    "        # 平均化\n",
    "        self.frequencies = f\n",
    "        self.spac_mean = np.mean(spac_coeffs, axis=0)\n",
    "        self.spac_std = np.std(spac_coeffs, axis=0)\n",
    "        \n",
    "        return self.frequencies, self.spac_mean, self.spac_std\n",
    "    \n",
    "    def estimate_phase_velocity(self, freq_range=(0.5, 10)):\n",
    "        \"\"\"ベッセル関数フィッティングによる位相速度推定\"\"\"\n",
    "        \n",
    "        # 解析する周波数範囲を限定\n",
    "        freq_mask = (self.frequencies >= freq_range[0]) & (self.frequencies <= freq_range[1])\n",
    "        freq_analysis = self.frequencies[freq_mask]\n",
    "        spac_analysis = self.spac_mean[freq_mask]\n",
    "        \n",
    "        phase_velocities = []\n",
    "        \n",
    "        for f, spac_val in zip(freq_analysis, spac_analysis):\n",
    "            if f == 0 or abs(spac_val) > 1:\n",
    "                phase_velocities.append(np.nan)\n",
    "                continue\n",
    "                \n",
    "            # ベッセル関数の零点を探索\n",
    "            # J0(2πfr/c) = spac_val を満たすcを探す\n",
    "            def bessel_func(c):\n",
    "                return j0(2 * np.pi * f * self.radius / c) - spac_val\n",
    "            \n",
    "            # 初期値の設定（探索範囲）\n",
    "            c_min = 50  # 最小位相速度 (m/s)\n",
    "            c_max = 1000  # 最大位相速度 (m/s)\n",
    "            \n",
    "            try:\n",
    "                from scipy.optimize import brentq\n",
    "                c = brentq(bessel_func, c_min, c_max)\n",
    "                phase_velocities.append(c)\n",
    "            except:\n",
    "                phase_velocities.append(np.nan)\n",
    "        \n",
    "        self.phase_velocities = np.array(phase_velocities)\n",
    "        self.freq_analysis = freq_analysis\n",
    "        \n",
    "        return freq_analysis, self.phase_velocities"
   ]
  },
  {
   "cell_type": "markdown",
   "metadata": {},
   "source": [
    "## 4. 実践：合成データでのSPAC解析\n",
    "\n",
    "実際の地下構造を想定した合成データを生成し、SPAC法を適用してみましょう。"
   ]
  },
  {
   "cell_type": "code",
   "source": "# 改良されたSPAC解析クラス（品質管理機能付き）\nclass SPACAnalysisWithQC(SPACAnalysis):\n    \"\"\"品質管理機能を追加したSPAC解析クラス\"\"\"\n    \n    def compute_spac_with_coherence(self, window_length=20, overlap=0.5):\n        \"\"\"空間自己相関係数とコヒーレンスを同時計算\"\"\"\n        \n        # 窓の設定\n        nperseg = int(window_length * self.fs)\n        noverlap = int(nperseg * overlap)\n        \n        # 中心点と周辺点のデータ\n        center_data = self.data[0, :]\n        \n        # 各周波数での結果を格納\n        spac_coeffs = []\n        coherences = []\n        \n        # 各周辺観測点との相関を計算\n        for i in range(1, self.n_stations):\n            # クロススペクトル密度の計算\n            f, Pxy = signal.csd(center_data, self.data[i, :], \n                               fs=self.fs, nperseg=nperseg, noverlap=noverlap)\n            \n            # オートスペクトル密度の計算\n            _, Pxx = signal.welch(center_data, fs=self.fs, \n                                 nperseg=nperseg, noverlap=noverlap)\n            _, Pyy = signal.welch(self.data[i, :], fs=self.fs, \n                                 nperseg=nperseg, noverlap=noverlap)\n            \n            # 空間自己相関係数\n            spac = np.real(Pxy) / np.sqrt(Pxx * Pyy)\n            spac_coeffs.append(spac)\n            \n            # コヒーレンス\n            coherence = np.abs(Pxy)**2 / (Pxx * Pyy)\n            coherences.append(coherence)\n        \n        # 結果の保存\n        self.frequencies = f\n        self.spac_mean = np.mean(spac_coeffs, axis=0)\n        self.spac_std = np.std(spac_coeffs, axis=0)\n        self.coherence_mean = np.mean(coherences, axis=0)\n        self.coherence_std = np.std(coherences, axis=0)\n        \n        return f, self.spac_mean, self.spac_std, self.coherence_mean\n    \n    def quality_check(self, min_coherence=0.8):\n        \"\"\"データ品質チェック\"\"\"\n        quality_mask = np.ones_like(self.frequencies, dtype=bool)\n        \n        # コヒーレンスチェック\n        quality_mask &= (self.coherence_mean >= min_coherence)\n        \n        # SPAC係数の範囲チェック\n        quality_mask &= (np.abs(self.spac_mean) <= 1.0)\n        \n        # 標準偏差が大きすぎる点を除外\n        quality_mask &= (self.spac_std < 0.3)\n        \n        # 品質スコア\n        quality_score = np.sum(quality_mask) / len(quality_mask)\n        \n        return quality_mask, quality_score\n    \n    def plot_results_with_qc(self):\n        \"\"\"品質管理結果を含むプロット\"\"\"\n        fig, axes = plt.subplots(3, 1, figsize=(10, 12))\n        \n        # SPAC係数\n        ax = axes[0]\n        ax.plot(self.frequencies, self.spac_mean, 'b-', linewidth=2, label='SPAC Coefficient')\n        ax.fill_between(self.frequencies, \n                       self.spac_mean - self.spac_std, \n                       self.spac_mean + self.spac_std, \n                       alpha=0.3, color='blue', label='±1 std')\n        ax.set_xlabel('Frequency (Hz)')\n        ax.set_ylabel('SPAC Coefficient')\n        ax.set_title('Spatial Autocorrelation Coefficient')\n        ax.grid(True, alpha=0.3)\n        ax.legend()\n        ax.set_ylim(-1.2, 1.2)\n        \n        # コヒーレンス\n        ax = axes[1]\n        ax.plot(self.frequencies, self.coherence_mean, 'g-', linewidth=2, label='Coherence')\n        ax.fill_between(self.frequencies, \n                       self.coherence_mean - self.coherence_std, \n                       self.coherence_mean + self.coherence_std, \n                       alpha=0.3, color='green')\n        ax.axhline(0.8, color='r', linestyle='--', label='Quality Threshold')\n        ax.set_xlabel('Frequency (Hz)')\n        ax.set_ylabel('Coherence')\n        ax.set_title('Coherence between Stations')\n        ax.grid(True, alpha=0.3)\n        ax.legend()\n        ax.set_ylim(0, 1.2)\n        \n        # 品質マスク\n        ax = axes[2]\n        quality_mask, quality_score = self.quality_check()\n        ax.scatter(self.frequencies[quality_mask], self.spac_mean[quality_mask], \n                  c='g', s=20, label='Good Quality')\n        ax.scatter(self.frequencies[~quality_mask], self.spac_mean[~quality_mask], \n                  c='r', s=20, alpha=0.5, label='Poor Quality')\n        ax.set_xlabel('Frequency (Hz)')\n        ax.set_ylabel('SPAC Coefficient')\n        ax.set_title(f'Quality Control Result (Score: {quality_score:.2%})')\n        ax.grid(True, alpha=0.3)\n        ax.legend()\n        ax.set_ylim(-1.2, 1.2)\n        \n        plt.tight_layout()\n        plt.show()\n\n# 品質管理付きSPAC解析のデモ\nspac_qc = SPACAnalysisWithQC(array_data, fs=100, array_radius=50)\nfreq, spac_coeff, spac_std, coherence = spac_qc.compute_spac_with_coherence()\nspac_qc.plot_results_with_qc()",
   "metadata": {},
   "outputs": []
  },
  {
   "cell_type": "code",
   "metadata": {},
   "outputs": [],
   "source": "# 合成アレイデータの生成\ndef generate_array_data(n_stations=5, array_radius=50, duration=300, fs=100):\n    \"\"\"\n    表面波を含む合成アレイデータを生成\n    \"\"\"\n    t = np.arange(0, duration, 1/fs)\n    data = np.zeros((n_stations, len(t)))\n    \n    # 表面波の特性（周波数と位相速度）\n    frequencies = [1.0, 2.0, 3.0, 5.0]\n    phase_velocities = [300, 250, 200, 150]  # 深さとともに速度増加を模擬\n    amplitudes = [1.0, 0.7, 0.5, 0.3]\n    \n    # 各観測点の位置（円形アレイ）\n    angles = np.linspace(0, 2*np.pi, n_stations-1, endpoint=False)\n    x_stations = [0] + [array_radius * np.cos(a) for a in angles]\n    y_stations = [0] + [array_radius * np.sin(a) for a in angles]\n    \n    # 各周波数成分について\n    for f, c, amp in zip(frequencies, phase_velocities, amplitudes):\n        # 波の進行方向（ランダム）\n        theta = np.random.rand() * 2 * np.pi\n        kx = 2 * np.pi * f / c * np.cos(theta)\n        ky = 2 * np.pi * f / c * np.sin(theta)\n        \n        # 各観測点での波形\n        for i, (x, y) in enumerate(zip(x_stations, y_stations)):\n            phase = kx * x + ky * y\n            data[i, :] += amp * np.sin(2 * np.pi * f * t - phase)\n    \n    # ノイズを追加\n    data += 0.1 * np.random.randn(*data.shape)\n    \n    return data, t\n\n# データ生成\narray_data, time = generate_array_data(n_stations=5, array_radius=50)\n\n# 生成したデータの可視化\nplt.figure(figsize=(12, 8))\nfor i in range(5):\n    plt.subplot(5, 1, i+1)\n    plt.plot(time[:500], array_data[i, :500])\n    plt.ylabel(f'Station {i}')\n    if i == 0:\n        plt.title('Synthetic Array Data (First 5 seconds)')\n    if i == 4:\n        plt.xlabel('Time (s)')\n    plt.grid(True, alpha=0.3)\n\nplt.tight_layout()\nplt.show()"
  },
  {
   "cell_type": "code",
   "metadata": {},
   "outputs": [],
   "source": "# SPAC解析の実行\nspac = SPACAnalysis(array_data, fs=100, array_radius=50)\n\n# 空間自己相関係数の計算\nfreq, spac_coeff, spac_std = spac.compute_spac_coefficient(window_length=20)\n\n# 結果の可視化\nplt.figure(figsize=(12, 5))\n\n# 空間自己相関係数\nplt.subplot(1, 2, 1)\nplt.plot(freq, spac_coeff, 'b-', linewidth=2, label='SPAC Coefficient')\nplt.fill_between(freq, spac_coeff - spac_std, spac_coeff + spac_std, \n                 alpha=0.3, color='blue', label='±1 std')\nplt.xlabel('Frequency (Hz)')\nplt.ylabel('SPAC Coefficient')\nplt.title('Spatial Autocorrelation Coefficient')\nplt.grid(True, alpha=0.3)\nplt.xlim(0, 10)\nplt.ylim(-0.5, 1.0)\nplt.legend()\n\n# ベッセル関数との比較\nplt.subplot(1, 2, 2)\n# いくつかの位相速度でベッセル関数を描画\nvelocities = [150, 200, 250, 300]\nfor v in velocities:\n    bessel_values = [j0(2 * np.pi * f * 50 / v) for f in freq]\n    plt.plot(freq, bessel_values, '--', alpha=0.5, label=f'v={v} m/s')\n\nplt.plot(freq, spac_coeff, 'b-', linewidth=2, label='Observed')\nplt.xlabel('Frequency (Hz)')\nplt.ylabel('SPAC Coefficient')\nplt.title('Comparison with Bessel Functions')\nplt.grid(True, alpha=0.3)\nplt.xlim(0, 10)\nplt.ylim(-0.5, 1.0)\nplt.legend()\n\nplt.tight_layout()\nplt.show()"
  },
  {
   "cell_type": "markdown",
   "metadata": {},
   "source": [
    "### 理論分散曲線の計算\n",
    "\n",
    "簡易的な2層モデルでは、位相速度は以下のような特性を示します：\n",
    "\n",
    "- 高周波数（短波長）：第1層のS波速度$V_{s1}$に近づく\n",
    "- 低周波数（長波長）：第2層のS波速度$V_{s2}$に近づく\n",
    "\n",
    "波長$\\lambda$と層厚$h_1$の関係により、次のような遷移が起こります：\n",
    "\n",
    "$$c(f) = V_{s1} + (V_{s2} - V_{s1}) \\cdot \\left(1 - \\exp\\left(-\\frac{2h_1}{\\lambda}\\right)\\right)$$"
   ]
  },
  {
   "cell_type": "code",
   "metadata": {},
   "outputs": [],
   "source": "# 位相速度の推定\nfreq_analysis, phase_vel = spac.estimate_phase_velocity(freq_range=(0.5, 6))\n\n# 分散曲線の表示\nplt.figure(figsize=(10, 6))\nplt.scatter(freq_analysis, phase_vel, s=50, c='blue', alpha=0.7, label='Estimated')\n\n# 真の値をプロット（検証用）\ntrue_freqs = [1.0, 2.0, 3.0, 5.0]\ntrue_vels = [300, 250, 200, 150]\nplt.plot(true_freqs, true_vels, 'r--', linewidth=2, marker='o', \n         markersize=8, label='True values')\n\nplt.xlabel('Frequency (Hz)')\nplt.ylabel('Phase Velocity (m/s)')\nplt.title('Dispersion Curve from SPAC Analysis')\nplt.grid(True, alpha=0.3)\nplt.legend()\nplt.xlim(0, 7)\nplt.ylim(0, 400)\n\n# 対数軸での表示も追加\nplt.figure(figsize=(10, 6))\nplt.loglog(1/freq_analysis, phase_vel, 'bo-', markersize=6, label='Estimated')\nplt.loglog(1/np.array(true_freqs), true_vels, 'r--', linewidth=2, \n           marker='s', markersize=8, label='True values')\nplt.xlabel('Period (s)')\nplt.ylabel('Phase Velocity (m/s)')\nplt.title('Dispersion Curve (Log-Log Scale)')\nplt.grid(True, which=\"both\", alpha=0.3)\nplt.legend()\nplt.xlim(0.1, 10)\nplt.ylim(100, 500)\n\nplt.show()"
  },
  {
   "cell_type": "markdown",
   "metadata": {},
   "source": [
    "## 5. 地下構造の推定\n",
    "\n",
    "分散曲線から地下構造（S波速度構造）を推定します。\n",
    "簡単な2層モデルを例に、理論分散曲線の計算方法を示します。"
   ]
  },
  {
   "cell_type": "code",
   "metadata": {},
   "outputs": [],
   "source": "def simple_dispersion_curve(frequencies, h1, vs1, vs2):\n    \"\"\"\n    簡単な2層モデルの理論分散曲線を計算\n    \n    Parameters:\n    - frequencies: 周波数配列\n    - h1: 第1層の層厚 (m)\n    - vs1: 第1層のS波速度 (m/s)\n    - vs2: 第2層（半無限）のS波速度 (m/s)\n    \n    Returns:\n    - phase_velocities: 位相速度配列\n    \"\"\"\n    phase_velocities = []\n    \n    for f in frequencies:\n        # 波長\n        lambda_min = vs1 / f\n        lambda_max = vs2 / f\n        \n        # 簡易的な推定式（実際はより複雑）\n        # 浅い深度では vs1 に近く、深い深度では vs2 に近づく\n        depth_factor = 1 - np.exp(-2 * h1 / lambda_min)\n        c = vs1 + (vs2 - vs1) * depth_factor\n        \n        phase_velocities.append(c)\n    \n    return np.array(phase_velocities)\n\n# パラメータスタディ\nfig, axes = plt.subplots(2, 2, figsize=(12, 10))\n\n# 周波数配列\nf_theory = np.linspace(0.1, 10, 100)\n\n# 1. 層厚の影響\nax = axes[0, 0]\nfor h in [5, 10, 20, 40]:\n    c_theory = simple_dispersion_curve(f_theory, h, 150, 300)\n    ax.plot(f_theory, c_theory, label=f'h1={h}m')\nax.set_xlabel('Frequency (Hz)')\nax.set_ylabel('Phase Velocity (m/s)')\nax.set_title('Effect of Layer Thickness')\nax.legend()\nax.grid(True, alpha=0.3)\n\n# 2. 第1層速度の影響\nax = axes[0, 1]\nfor vs1 in [100, 150, 200, 250]:\n    c_theory = simple_dispersion_curve(f_theory, 20, vs1, 400)\n    ax.plot(f_theory, c_theory, label=f'Vs1={vs1}m/s')\nax.set_xlabel('Frequency (Hz)')\nax.set_ylabel('Phase Velocity (m/s)')\nax.set_title('Effect of Layer 1 Velocity')\nax.legend()\nax.grid(True, alpha=0.3)\n\n# 3. 第2層速度の影響\nax = axes[1, 0]\nfor vs2 in [300, 400, 500, 600]:\n    c_theory = simple_dispersion_curve(f_theory, 20, 150, vs2)\n    ax.plot(f_theory, c_theory, label=f'Vs2={vs2}m/s')\nax.set_xlabel('Frequency (Hz)')\nax.set_ylabel('Phase Velocity (m/s)')\nax.set_title('Effect of Layer 2 Velocity')\nax.legend()\nax.grid(True, alpha=0.3)\n\n# 4. 観測データとのフィッティング例\nax = axes[1, 1]\n# 観測データ（先ほどの結果を使用）\nvalid_mask = ~np.isnan(phase_vel)\nax.scatter(freq_analysis[valid_mask], phase_vel[valid_mask], \n          s=50, c='blue', alpha=0.7, label='Observed')\n\n# いくつかのモデルを試す\nmodels = [\n    (10, 180, 280, 'Model 1'),\n    (15, 160, 300, 'Model 2'),\n    (20, 150, 320, 'Model 3')\n]\n\nfor h, vs1, vs2, label in models:\n    c_theory = simple_dispersion_curve(freq_analysis, h, vs1, vs2)\n    ax.plot(freq_analysis, c_theory, '--', linewidth=2, label=label)\n\nax.set_xlabel('Frequency (Hz)')\nax.set_ylabel('Phase Velocity (m/s)')\nax.set_title('Model Fitting Example')\nax.legend()\nax.grid(True, alpha=0.3)\nax.set_xlim(0, 6)\nax.set_ylim(100, 400)\n\nplt.tight_layout()\nplt.show()"
  },
  {
   "cell_type": "markdown",
   "metadata": {},
   "source": [
    "## 6. 実践演習\n",
    "\n",
    "以下の演習問題に取り組んでみましょう：\n",
    "\n",
    "### 演習1：ノイズの影響\n",
    "異なるノイズレベルでのSPAC解析の安定性を調べてください。\n",
    "\n",
    "### 演習2：アレイサイズの検討\n",
    "異なるアレイサイズ（半径）での解析可能周波数範囲を調べてください。\n",
    "\n",
    "### 演習3：観測点数の影響\n",
    "観測点数を変えた場合の解析精度を評価してください。"
   ]
  },
  {
   "cell_type": "code",
   "metadata": {},
   "outputs": [],
   "source": "# 演習1の解答例：ノイズの影響\ndef analyze_noise_effect(noise_levels=[0.01, 0.05, 0.1, 0.2, 0.5]):\n    \"\"\"異なるノイズレベルでのSPAC解析\"\"\"\n    \n    fig, axes = plt.subplots(2, len(noise_levels), figsize=(15, 8))\n    \n    for idx, noise_level in enumerate(noise_levels):\n        # データ生成（ノイズレベルを変更）\n        t = np.arange(0, 300, 0.01)\n        data = np.zeros((5, len(t)))\n        \n        # 表面波成分\n        frequencies = [1.0, 2.0, 3.0, 5.0]\n        phase_velocities = [300, 250, 200, 150]\n        \n        for i in range(5):\n            for f, c in zip(frequencies, phase_velocities):\n                phase = 2 * np.pi * f * i * 50 / (4 * c)  # 簡易的な位相差\n                data[i, :] += np.sin(2 * np.pi * f * t - phase)\n        \n        # ノイズ追加\n        data += noise_level * np.random.randn(*data.shape)\n        \n        # SPAC解析\n        spac = SPACAnalysis(data, fs=100, array_radius=50)\n        freq, spac_coeff, _ = spac.compute_spac_coefficient()\n        \n        # プロット\n        ax1 = axes[0, idx]\n        ax1.plot(t[:100], data[0, :100])\n        ax1.set_title(f'Noise Level: {noise_level}')\n        ax1.set_xlabel('Time (s)')\n        ax1.set_ylabel('Amplitude')\n        \n        ax2 = axes[1, idx]\n        ax2.plot(freq, spac_coeff)\n        ax2.set_xlabel('Frequency (Hz)')\n        ax2.set_ylabel('SPAC Coefficient')\n        ax2.set_xlim(0, 10)\n        ax2.set_ylim(-0.5, 1)\n        ax2.grid(True, alpha=0.3)\n    \n    plt.tight_layout()\n    plt.show()\n\n# 演習1の実行\nprint(\"Exercise 1: Effect of Noise Level\")\nanalyze_noise_effect()"
  },
  {
   "cell_type": "markdown",
   "source": "## 8. 探査深度の理論的背景\n\n### 8.1 なぜ探査深度が λ/2 ～ λ/3 なのか？\n\n表面波（レイリー波）の振幅は深さとともに指数関数的に減衰します。探査深度が波長の約1/2～1/3になる理由を理解しましょう。\n\n### 8.2 レイリー波の変位分布\n\nレイリー波の変位は深さ方向に以下のように表現されます：\n\n水平成分：\n$$u_x(z) = A \\left[ e^{-k\\alpha z} - \\frac{2\\alpha\\beta}{1+\\beta^2} e^{-k\\beta z} \\right]$$\n\n鉛直成分：\n$$u_z(z) = A \\frac{i\\alpha}{k} \\left[ e^{-k\\alpha z} - \\frac{2}{1+\\beta^2} e^{-k\\beta z} \\right]$$\n\nここで：\n- $k = 2\\pi/\\lambda$：波数\n- $\\alpha = \\sqrt{1 - (c/v_p)^2}$\n- $\\beta = \\sqrt{1 - (c/v_s)^2}$\n\n### 8.3 感度カーネル\n\n位相速度は各深さのS波速度の重み付き平均として表現でき、この重み関数（感度カーネル）は深さ $z = \\lambda/3$ 付近で最大となります。",
   "metadata": {}
  },
  {
   "cell_type": "code",
   "source": "def visualize_exploration_depth():\n    \"\"\"レイリー波の変位分布と探査深度の関係を可視化\"\"\"\n    \n    fig, axes = plt.subplots(2, 2, figsize=(14, 10))\n    \n    # パラメータ設定\n    wavelengths = [10, 20, 50, 100]  # 波長 (m)\n    vs = 200  # S波速度 (m/s)\n    vp = vs * 1.73  # P波速度（ポアソン比0.25）\n    c = 0.92 * vs  # レイリー波速度（近似）\n    \n    # 1. 変位の深さ分布\n    ax = axes[0, 0]\n    for lambda_val in wavelengths:\n        z = np.linspace(0, 2*lambda_val, 1000)\n        k = 2 * np.pi / lambda_val\n        alpha = np.sqrt(1 - (c/vp)**2)\n        beta = np.sqrt(1 - (c/vs)**2)\n        \n        # 水平変位（正規化）\n        ux = np.exp(-k*alpha*z) - (2*alpha*beta)/(1+beta**2) * np.exp(-k*beta*z)\n        ux = ux / np.max(np.abs(ux))\n        \n        ax.plot(ux, z/lambda_val, label=f'$\\\\lambda$={lambda_val}m')\n        \n    ax.invert_yaxis()\n    ax.set_xlabel('Normalized Displacement')\n    ax.set_ylabel('Depth/$\\\\lambda$')\n    ax.set_title('Rayleigh Wave Horizontal Displacement Distribution')\n    ax.grid(True, alpha=0.3)\n    ax.legend()\n    ax.axhline(1/3, color='r', linestyle='--', alpha=0.5, label='$\\\\lambda$/3')\n    ax.axhline(1/2, color='r', linestyle='--', alpha=0.5, label='$\\\\lambda$/2')\n    \n    # 2. エネルギー分布\n    ax = axes[0, 1]\n    for lambda_val in wavelengths:\n        z = np.linspace(0, 2*lambda_val, 1000)\n        k = 2 * np.pi / lambda_val\n        alpha = np.sqrt(1 - (c/vp)**2)\n        beta = np.sqrt(1 - (c/vs)**2)\n        \n        # エネルギー（変位の2乗に比例）\n        ux = np.exp(-k*alpha*z) - (2*alpha*beta)/(1+beta**2) * np.exp(-k*beta*z)\n        energy = ux**2\n        \n        # 累積エネルギー\n        cumulative_energy = np.cumsum(energy) / np.sum(energy)\n        \n        ax.plot(cumulative_energy, z/lambda_val, label=f'$\\\\lambda$={lambda_val}m')\n        \n    ax.invert_yaxis()\n    ax.set_xlabel('Cumulative Energy Ratio')\n    ax.set_ylabel('Depth/$\\\\lambda$')\n    ax.set_title('Energy Distribution with Depth')\n    ax.grid(True, alpha=0.3)\n    ax.legend()\n    ax.axhline(1/3, color='r', linestyle='--', alpha=0.5)\n    ax.axhline(1/2, color='r', linestyle='--', alpha=0.5)\n    ax.axvline(0.7, color='g', linestyle='--', alpha=0.5, label='70%')\n    \n    # 3. 感度カーネル\n    ax = axes[1, 0]\n    z_norm = np.linspace(0, 2, 1000)\n    \n    # 簡易的な感度カーネル（実際はより複雑）\n    sensitivity = z_norm * np.exp(-3*z_norm)\n    sensitivity = sensitivity / np.max(sensitivity)\n    \n    ax.plot(sensitivity, z_norm)\n    ax.invert_yaxis()\n    ax.set_xlabel('Sensitivity')\n    ax.set_ylabel('Depth/$\\\\lambda$')\n    ax.set_title('Sensitivity Kernel for S-wave Velocity (Conceptual)')\n    ax.grid(True, alpha=0.3)\n    ax.axhline(1/3, color='r', linestyle='--', alpha=0.5, label='$\\\\lambda$/3 (Max Sensitivity)')\n    ax.fill_betweenx(z_norm, 0, sensitivity, alpha=0.3)\n    \n    # 4. 周波数と探査深度の関係\n    ax = axes[1, 1]\n    frequencies = np.logspace(-1, 1.5, 50)  # 0.1-30 Hz\n    vs_values = [100, 200, 300, 500]\n    \n    for vs in vs_values:\n        wavelengths = vs / frequencies\n        depth_min = wavelengths / 3\n        depth_max = wavelengths / 2\n        \n        ax.fill_between(frequencies, depth_min, depth_max, alpha=0.3, label=f'$V_s$={vs}m/s')\n        ax.loglog(frequencies, depth_min, '--', alpha=0.5)\n        ax.loglog(frequencies, depth_max, '--', alpha=0.5)\n    \n    ax.set_xlabel('Frequency (Hz)')\n    ax.set_ylabel('Exploration Depth (m)')\n    ax.set_title('Frequency vs Exploration Depth')\n    ax.grid(True, which=\"both\", alpha=0.3)\n    ax.legend()\n    ax.set_xlim(0.1, 30)\n    ax.set_ylim(1, 1000)\n    \n    plt.tight_layout()\n    plt.show()\n\n# 可視化の実行\nvisualize_exploration_depth()",
   "metadata": {},
   "outputs": []
  },
  {
   "cell_type": "markdown",
   "metadata": {},
   "source": [
    "## 7. まとめと実践のポイント\n",
    "\n",
    "### 重要なポイント\n",
    "1. **アレイサイズの選択**：対象とする周波数帯域に応じて適切に選ぶ\n",
    "2. **観測時間**：統計的に安定した結果を得るため、20-30分以上の観測を推奨\n",
    "3. **データ品質管理**：過渡的なノイズの除去、機器の同期が重要\n",
    "4. **解の非唯一性**：異なる地下構造モデルが同じ分散曲線を示す可能性がある\n",
    "\n",
    "### 次のステップ\n",
    "1. 実データの解析に挑戦\n",
    "2. FK法など他の解析手法の習得\n",
    "3. 逆解析手法（遺伝的アルゴリズムなど）の実装\n",
    "4. 3次元構造への拡張\n",
    "\n",
    "### 参考資料\n",
    "- Okada, H. (2003): The Microtremor Survey Method\n",
    "- 物理探査学会 (2008): 物理探査ハンドブック\n",
    "- Geopsy プロジェクト: http://www.geopsy.org/"
   ]
  },
  {
   "cell_type": "markdown",
   "source": "## 5. FK法 (Frequency-Wavenumber Method)\n\nFK法は、アレイ観測データを周波数-波数領域で解析し、表面波の伝播方向と位相速度を同時に推定する手法です。",
   "metadata": {}
  },
  {
   "cell_type": "code",
   "source": "def visualize_fk_method():\n    \"\"\"FK法の原理を可視化\"\"\"\n    fig = plt.figure(figsize=(16, 12))\n    \n    # 1. 波動場の例\n    ax1 = plt.subplot(2, 3, 1)\n    x = np.linspace(-100, 100, 200)\n    y = np.linspace(-100, 100, 200)\n    X, Y = np.meshgrid(x, y)\n    \n    # 平面波 (wave coming from NE direction)\n    k_x, k_y = 0.05, 0.05  # wavenumber components\n    wave_field = np.sin(k_x * X + k_y * Y)\n    \n    im1 = ax1.contourf(X, Y, wave_field, levels=20, cmap='RdBu')\n    ax1.scatter([0, 50, 0, -50, 0], [0, 0, 50, 0, -50], \n                s=100, c='black', marker='^', label='Array stations')\n    ax1.arrow(0, 0, 30, 30, head_width=5, head_length=5, fc='green', ec='green')\n    ax1.text(35, 35, 'Wave direction', fontsize=10)\n    ax1.set_xlabel('X (m)')\n    ax1.set_ylabel('Y (m)')\n    ax1.set_title('Wave Field at Array')\n    ax1.axis('equal')\n    ax1.grid(True, alpha=0.3)\n    plt.colorbar(im1, ax=ax1, label='Amplitude')\n    \n    # 2. FK spectrum\n    ax2 = plt.subplot(2, 3, 2)\n    kx = np.linspace(-0.1, 0.1, 100)\n    ky = np.linspace(-0.1, 0.1, 100)\n    KX, KY = np.meshgrid(kx, ky)\n    \n    # Simulated FK power spectrum\n    fk_power = np.exp(-50 * ((KX - k_x)**2 + (KY - k_y)**2))\n    \n    im2 = ax2.contourf(KX, KY, fk_power, levels=20, cmap='hot')\n    ax2.scatter([k_x], [k_y], s=100, c='blue', marker='*', \n                label=f'Peak at k=({k_x:.2f}, {k_y:.2f})')\n    ax2.set_xlabel(r'$k_x$ (rad/m)')\n    ax2.set_ylabel(r'$k_y$ (rad/m)')\n    ax2.set_title('FK Power Spectrum')\n    ax2.axis('equal')\n    ax2.grid(True, alpha=0.3)\n    ax2.legend()\n    plt.colorbar(im2, ax=ax2, label='Power')\n    \n    # 3. Slowness domain\n    ax3 = plt.subplot(2, 3, 3)\n    sx = kx / (2 * np.pi * 5)  # Convert to slowness for f=5 Hz\n    sy = ky / (2 * np.pi * 5)\n    SX, SY = np.meshgrid(sx, sy)\n    \n    im3 = ax3.contourf(SX * 1000, SY * 1000, fk_power, levels=20, cmap='hot')\n    \n    # Add velocity circles\n    for v in [100, 200, 300, 400]:\n        circle = plt.Circle((0, 0), 1000/v, fill=False, color='white', \n                          linestyle='--', alpha=0.5)\n        ax3.add_patch(circle)\n        ax3.text(0, 1000/v + 0.5, f'{v} m/s', ha='center', \n                color='white', fontsize=8)\n    \n    ax3.set_xlabel('Slowness X (s/km)')\n    ax3.set_ylabel('Slowness Y (s/km)')\n    ax3.set_title('Slowness Domain (f = 5 Hz)')\n    ax3.set_xlim(-10, 10)\n    ax3.set_ylim(-10, 10)\n    ax3.axis('equal')\n    ax3.grid(True, alpha=0.3)\n    plt.colorbar(im3, ax=ax3, label='Power')\n    \n    # 4. Array response function\n    ax4 = plt.subplot(2, 3, 4)\n    # Array coordinates (5-station array)\n    stations = np.array([[0, 0], [50, 0], [0, 50], [-50, 0], [0, -50]])\n    \n    # Compute array response\n    response = np.zeros_like(fk_power)\n    for i in range(len(kx)):\n        for j in range(len(ky)):\n            steering = np.exp(-1j * (kx[i] * stations[:, 0] + \n                                    ky[j] * stations[:, 1]))\n            response[j, i] = np.abs(np.sum(steering))**2 / len(stations)**2\n    \n    im4 = ax4.contourf(KX, KY, response, levels=20, cmap='viridis')\n    ax4.set_xlabel(r'$k_x$ (rad/m)')\n    ax4.set_ylabel(r'$k_y$ (rad/m)')\n    ax4.set_title('Array Response Function')\n    ax4.axis('equal')\n    ax4.grid(True, alpha=0.3)\n    plt.colorbar(im4, ax=ax4, label='Response')\n    \n    # 5. Phase velocity estimation\n    ax5 = plt.subplot(2, 3, 5)\n    frequencies = np.logspace(0, 1.5, 30)\n    \n    # Simulated dispersion curves\n    true_velocity = 200 * frequencies**0.1\n    fk_velocity = true_velocity * (1 + 0.05 * np.random.randn(len(frequencies)))\n    \n    ax5.scatter(frequencies, fk_velocity, s=50, alpha=0.7, \n                label='FK estimates', color='red')\n    ax5.plot(frequencies, true_velocity, 'k--', \n             label='True dispersion', linewidth=2)\n    \n    ax5.set_xlabel('Frequency (Hz)')\n    ax5.set_ylabel('Phase Velocity (m/s)')\n    ax5.set_title('Dispersion Curve from FK Analysis')\n    ax5.set_xscale('log')\n    ax5.grid(True, alpha=0.3, which='both')\n    ax5.legend()\n    \n    # 6. Beamforming concept\n    ax6 = plt.subplot(2, 3, 6)\n    theta = np.linspace(0, 2*np.pi, 100)\n    \n    # Beam patterns for different frequencies\n    r1 = 1 + 0.3 * np.cos(5 * theta)  # Main lobe\n    r2 = 1 + 0.2 * np.cos(3 * theta) + 0.1 * np.cos(7 * theta)  # With side lobes\n    \n    ax6.plot(theta, r1, label='Good resolution', linewidth=2)\n    ax6.plot(theta, r2, label='With side lobes', linewidth=2, alpha=0.7)\n    ax6.fill_between(theta, 0, r1, alpha=0.3)\n    ax6.fill_between(theta, 0, r2, alpha=0.2)\n    \n    ax6.set_xlabel('Azimuth (rad)')\n    ax6.set_ylabel('Beam Power')\n    ax6.set_title('Beamforming Resolution')\n    ax6.grid(True, alpha=0.3)\n    ax6.legend()\n    \n    plt.tight_layout()\n    plt.show()\n\n# 実行\nvisualize_fk_method()",
   "metadata": {},
   "outputs": []
  },
  {
   "cell_type": "markdown",
   "source": "## 6. トラブルシューティングと実践的な考慮事項\n\n微動解析でよく遭遇する問題とその対策を可視化します。",
   "metadata": {}
  },
  {
   "cell_type": "code",
   "source": "def visualize_troubleshooting():\n    \"\"\"一般的な問題と対策を可視化\"\"\"\n    fig = plt.figure(figsize=(16, 12))\n    \n    # 1. 低周波数でのSPAC係数の不安定性\n    ax1 = plt.subplot(2, 3, 1)\n    r = 50  # array radius\n    frequencies = np.logspace(-1, 1.5, 100)\n    \n    # Different velocity models\n    c1 = 200  # constant velocity\n    c2 = 150 * frequencies**0.15  # dispersive\n    \n    # SPAC coefficients\n    spac1 = [j0(2 * np.pi * f * r / c1) for f in frequencies]\n    spac2 = [j0(2 * np.pi * f * r / c2[i]) for i, f in enumerate(frequencies)]\n    \n    # Mark problematic region\n    problem_freq = c1 / (2 * r)  # λ = 2r\n    ax1.axvspan(0, problem_freq, alpha=0.3, color='red', \n                label=f'Unstable region (f < {problem_freq:.1f} Hz)')\n    \n    ax1.plot(frequencies, spac1, 'b-', linewidth=2, label='Non-dispersive')\n    ax1.plot(frequencies, spac2, 'g--', linewidth=2, label='Dispersive')\n    ax1.axhline(y=0, color='k', linestyle=':', alpha=0.5)\n    \n    ax1.set_xlabel('Frequency (Hz)')\n    ax1.set_ylabel('SPAC Coefficient')\n    ax1.set_title(f'Low-frequency Instability (r = {r} m)')\n    ax1.set_xscale('log')\n    ax1.set_xlim([0.1, 30])\n    ax1.set_ylim([-0.5, 1.1])\n    ax1.grid(True, alpha=0.3)\n    ax1.legend()\n    \n    # 2. 高周波数でのコヒーレンス低下\n    ax2 = plt.subplot(2, 3, 2)\n    frequencies = np.linspace(0.1, 30, 100)\n    \n    # Coherence model (decreasing with frequency)\n    coherence_ideal = np.ones_like(frequencies)\n    coherence_real = np.exp(-frequencies / 10) * (0.9 + 0.1 * np.random.rand(len(frequencies)))\n    \n    # Quality threshold\n    threshold = 0.8\n    ax2.axhline(y=threshold, color='r', linestyle='--', \n                label=f'Quality threshold ({threshold})')\n    \n    ax2.fill_between(frequencies, 0, coherence_real, \n                     where=(coherence_real >= threshold), \n                     alpha=0.3, color='green', label='Good quality')\n    ax2.fill_between(frequencies, 0, coherence_real, \n                     where=(coherence_real < threshold), \n                     alpha=0.3, color='red', label='Poor quality')\n    \n    ax2.plot(frequencies, coherence_ideal, 'k:', label='Ideal')\n    ax2.plot(frequencies, coherence_real, 'b-', linewidth=2, label='Observed')\n    \n    ax2.set_xlabel('Frequency (Hz)')\n    ax2.set_ylabel('Coherence')\n    ax2.set_title('High-frequency Coherence Degradation')\n    ax2.set_ylim([0, 1.1])\n    ax2.grid(True, alpha=0.3)\n    ax2.legend()\n    \n    # 3. 分散曲線の不連続\n    ax3 = plt.subplot(2, 3, 3)\n    f1 = np.linspace(0.5, 5, 20)\n    f2 = np.linspace(4, 15, 30)\n    f3 = np.linspace(12, 30, 25)\n    \n    # Velocities with discontinuities\n    v1 = 180 * f1**0.1\n    v2 = 220 * f2**0.08  # Jump\n    v3 = 250 * f3**0.05  # Another jump\n    \n    # Show problematic points\n    ax3.scatter(f1, v1, s=50, alpha=0.7, label='Array 1 (r=100m)')\n    ax3.scatter(f2, v2, s=50, alpha=0.7, label='Array 2 (r=50m)')\n    ax3.scatter(f3, v3, s=50, alpha=0.7, label='Array 3 (r=20m)')\n    \n    # Highlight discontinuities\n    ax3.axvspan(4, 5, alpha=0.2, color='red')\n    ax3.axvspan(12, 15, alpha=0.2, color='red')\n    ax3.text(4.5, 300, 'Discontinuity', rotation=90, va='center', color='red')\n    ax3.text(13.5, 300, 'Discontinuity', rotation=90, va='center', color='red')\n    \n    ax3.set_xlabel('Frequency (Hz)')\n    ax3.set_ylabel('Phase Velocity (m/s)')\n    ax3.set_title('Dispersion Curve Discontinuities')\n    ax3.grid(True, alpha=0.3)\n    ax3.legend()\n    \n    # 4. ノイズの影響\n    ax4 = plt.subplot(2, 3, 4)\n    t = np.linspace(0, 10, 1000)\n    \n    # Clean signal\n    clean = np.sin(2 * np.pi * 2 * t) + 0.5 * np.sin(2 * np.pi * 5 * t)\n    \n    # Add different types of noise\n    white_noise = clean + 0.3 * np.random.randn(len(t))\n    transient = clean.copy()\n    transient[400:450] += 5 * np.sin(2 * np.pi * 20 * (t[400:450] - t[400]))\n    \n    ax4.plot(t, clean, 'g-', linewidth=2, alpha=0.7, label='Clean signal')\n    ax4.plot(t, white_noise, 'b-', alpha=0.5, label='With white noise')\n    ax4.plot(t, transient, 'r-', alpha=0.7, label='With transient')\n    \n    ax4.set_xlabel('Time (s)')\n    ax4.set_ylabel('Amplitude')\n    ax4.set_title('Different Types of Noise')\n    ax4.set_xlim([0, 10])\n    ax4.grid(True, alpha=0.3)\n    ax4.legend()\n    \n    # 5. アレイ応答の方向依存性\n    ax5 = plt.subplot(2, 3, 5, projection='polar')\n    \n    # Irregular array\n    theta = np.linspace(0, 2*np.pi, 100)\n    \n    # Array response (direction-dependent)\n    response_regular = 1 + 0.1 * np.cos(4 * theta)  # Nearly uniform\n    response_irregular = 1 + 0.3 * np.cos(theta) + 0.2 * np.cos(3 * theta)  # Directional\n    \n    ax5.plot(theta, response_regular, 'b-', linewidth=2, label='Regular array')\n    ax5.plot(theta, response_irregular, 'r--', linewidth=2, label='Irregular array')\n    ax5.fill_between(theta, 0, response_regular, alpha=0.3)\n    ax5.fill_between(theta, 0, response_irregular, alpha=0.2)\n    \n    ax5.set_ylim([0, 1.5])\n    ax5.set_title('Array Response Directionality')\n    ax5.grid(True)\n    \n    # 6. 推奨される処理フロー\n    ax6 = plt.subplot(2, 3, 6)\n    ax6.axis('off')\n    \n    # Create flowchart\n    steps = [\n        \"1. Data Acquisition\\n(GPS time sync)\",\n        \"2. Preprocessing\\n(Detrend, Filter)\",\n        \"3. Quality Check\\n(Coherence, SNR)\",\n        \"4. SPAC/FK Analysis\\n(Multiple arrays)\",\n        \"5. Dispersion Curve\\n(Combine, Smooth)\",\n        \"6. Inversion\\n(S-wave model)\"\n    ]\n    \n    y_positions = np.linspace(0.9, 0.1, len(steps))\n    \n    for i, (step, y) in enumerate(zip(steps, y_positions)):\n        # Box\n        box = plt.Rectangle((0.1, y-0.08), 0.8, 0.12, \n                           fill=True, facecolor='lightblue', \n                           edgecolor='darkblue', linewidth=2)\n        ax6.add_patch(box)\n        \n        # Text\n        ax6.text(0.5, y-0.02, step, ha='center', va='center', \n                fontsize=10, weight='bold')\n        \n        # Arrow\n        if i < len(steps) - 1:\n            ax6.arrow(0.5, y-0.08, 0, -0.05, head_width=0.05, \n                     head_length=0.02, fc='darkblue', ec='darkblue')\n    \n    ax6.set_xlim([0, 1])\n    ax6.set_ylim([0, 1])\n    ax6.set_title('Recommended Processing Flow', fontsize=12, weight='bold')\n    \n    plt.tight_layout()\n    plt.show()\n\n# 実行\nvisualize_troubleshooting()",
   "metadata": {},
   "outputs": []
  },
  {
   "cell_type": "markdown",
   "source": "## 7. 分散曲線の結合と品質管理\n\n複数のアレイサイズから得られた分散曲線を適切に結合し、品質管理を行う方法を実装します。",
   "metadata": {}
  },
  {
   "cell_type": "code",
   "source": "class DispersionCurveMerger:\n    \"\"\"分散曲線の結合と品質管理を行うクラス\"\"\"\n    \n    def __init__(self):\n        self.curves = []\n        self.array_info = []\n        \n    def add_curve(self, frequencies, velocities, array_radius, method='SPAC', \n                  coherence=None, quality_scores=None):\n        \"\"\"分散曲線を追加\"\"\"\n        curve_data = {\n            'frequencies': np.array(frequencies),\n            'velocities': np.array(velocities),\n            'array_radius': array_radius,\n            'method': method,\n            'coherence': coherence,\n            'quality_scores': quality_scores\n        }\n        \n        # 有効周波数範囲を計算\n        min_wavelength = 2 * array_radius\n        max_wavelength = 10 * array_radius\n        \n        # 速度の中央値を使用して周波数範囲を推定\n        valid_mask = ~np.isnan(velocities)\n        if np.any(valid_mask):\n            median_velocity = np.median(velocities[valid_mask])\n            curve_data['freq_min'] = median_velocity / max_wavelength\n            curve_data['freq_max'] = median_velocity / min_wavelength\n        else:\n            curve_data['freq_min'] = 0\n            curve_data['freq_max'] = np.inf\n            \n        self.curves.append(curve_data)\n        self.array_info.append({\n            'radius': array_radius,\n            'method': method\n        })\n        \n    def merge_curves(self, overlap_weight=2.0, quality_threshold=0.7):\n        \"\"\"複数の分散曲線を結合\"\"\"\n        all_data = []\n        \n        for curve in self.curves:\n            frequencies = curve['frequencies']\n            velocities = curve['velocities']\n            \n            # 有効範囲内のデータのみ使用\n            valid_mask = (~np.isnan(velocities) & \n                         (frequencies >= curve['freq_min']) & \n                         (frequencies <= curve['freq_max']))\n            \n            # 品質スコアがある場合は考慮\n            if curve['quality_scores'] is not None:\n                valid_mask &= (curve['quality_scores'] >= quality_threshold)\n            \n            # 重み付けを計算\n            weights = np.ones(np.sum(valid_mask))\n            \n            # 有効周波数範囲の端での重み減少\n            freq_valid = frequencies[valid_mask]\n            freq_center = (curve['freq_min'] + curve['freq_max']) / 2\n            freq_width = (curve['freq_max'] - curve['freq_min']) / 2\n            \n            # ガウシアン重み\n            weights *= np.exp(-((freq_valid - freq_center) / freq_width)**2 / overlap_weight)\n            \n            # コヒーレンスによる重み付け\n            if curve['coherence'] is not None:\n                weights *= curve['coherence'][valid_mask]\n            \n            # データを追加\n            for f, v, w in zip(freq_valid, velocities[valid_mask], weights):\n                all_data.append({'freq': f, 'vel': v, 'weight': w, \n                               'array_radius': curve['array_radius']})\n        \n        # 周波数でソート\n        all_data.sort(key=lambda x: x['freq'])\n        \n        # 重複データの処理\n        merged_freq = []\n        merged_vel = []\n        merged_std = []\n        \n        # ビンニング\n        freq_bins = np.logspace(np.log10(all_data[0]['freq']), \n                               np.log10(all_data[-1]['freq']), 100)\n        \n        for i in range(len(freq_bins) - 1):\n            bin_data = [d for d in all_data \n                       if freq_bins[i] <= d['freq'] < freq_bins[i+1]]\n            \n            if bin_data:\n                # 重み付き平均\n                weights = np.array([d['weight'] for d in bin_data])\n                velocities = np.array([d['vel'] for d in bin_data])\n                \n                if np.sum(weights) > 0:\n                    avg_freq = np.mean([d['freq'] for d in bin_data])\n                    avg_vel = np.sum(weights * velocities) / np.sum(weights)\n                    std_vel = np.sqrt(np.sum(weights * (velocities - avg_vel)**2) / \n                                     np.sum(weights))\n                    \n                    merged_freq.append(avg_freq)\n                    merged_vel.append(avg_vel)\n                    merged_std.append(std_vel)\n        \n        return np.array(merged_freq), np.array(merged_vel), np.array(merged_std)\n    \n    def plot_all_curves(self, show_merged=True):\n        \"\"\"すべての分散曲線をプロット\"\"\"\n        plt.figure(figsize=(12, 8))\n        \n        # 個別の曲線\n        colors = plt.cm.rainbow(np.linspace(0, 1, len(self.curves)))\n        \n        for i, curve in enumerate(self.curves):\n            valid_mask = ~np.isnan(curve['velocities'])\n            \n            # 有効範囲を示す\n            plt.axvspan(curve['freq_min'], curve['freq_max'], \n                       alpha=0.1, color=colors[i])\n            \n            # データ点\n            plt.scatter(curve['frequencies'][valid_mask], \n                       curve['velocities'][valid_mask],\n                       s=50, alpha=0.7, color=colors[i],\n                       label=f\"{curve['method']} (r={curve['array_radius']}m)\")\n        \n        # 結合された曲線\n        if show_merged:\n            merged_f, merged_v, merged_std = self.merge_curves()\n            plt.plot(merged_f, merged_v, 'k-', linewidth=3, \n                    label='Merged curve', zorder=10)\n            plt.fill_between(merged_f, merged_v - merged_std, \n                           merged_v + merged_std,\n                           alpha=0.3, color='gray', \n                           label='Uncertainty')\n        \n        plt.xlabel('Frequency (Hz)')\n        plt.ylabel('Phase Velocity (m/s)')\n        plt.title('Dispersion Curves from Multiple Arrays')\n        plt.xscale('log')\n        plt.grid(True, alpha=0.3, which='both')\n        plt.legend(loc='best')\n        plt.tight_layout()\n        plt.show()\n\n# 使用例\ndef demonstrate_curve_merging():\n    \"\"\"分散曲線の結合のデモンストレーション\"\"\"\n    merger = DispersionCurveMerger()\n    \n    # Array 1: Large array (r=100m) - good for low frequencies\n    f1 = np.logspace(-0.5, 1.0, 30)\n    v1 = 200 * f1**0.12\n    v1[f1 > 5] = np.nan  # High frequency limit\n    coherence1 = np.exp(-f1/3)\n    merger.add_curve(f1, v1, 100, 'SPAC', coherence=coherence1)\n    \n    # Array 2: Medium array (r=50m) - good for mid frequencies  \n    f2 = np.logspace(0, 1.5, 40)\n    v2 = 210 * f2**0.11\n    v2[f2 < 1] = np.nan  # Low frequency limit\n    v2[f2 > 15] = np.nan  # High frequency limit\n    coherence2 = np.exp(-(f2-5)**2/20)\n    merger.add_curve(f2, v2, 50, 'SPAC', coherence=coherence2)\n    \n    # Array 3: Small array (r=20m) - good for high frequencies\n    f3 = np.logspace(0.5, 2.0, 35)\n    v3 = 220 * f3**0.10\n    v3[f3 < 5] = np.nan  # Low frequency limit\n    coherence3 = np.exp(-(f3-15)**2/50)\n    merger.add_curve(f3, v3, 20, 'FK', coherence=coherence3)\n    \n    # Plot all curves and merged result\n    merger.plot_all_curves()\n    \n    # Get merged curve\n    merged_f, merged_v, merged_std = merger.merge_curves()\n    \n    # Quality assessment\n    plt.figure(figsize=(12, 4))\n    \n    plt.subplot(1, 2, 1)\n    plt.plot(merged_f, merged_std/merged_v * 100, 'b-', linewidth=2)\n    plt.xlabel('Frequency (Hz)')\n    plt.ylabel('Coefficient of Variation (%)')\n    plt.title('Uncertainty Assessment')\n    plt.xscale('log')\n    plt.grid(True, alpha=0.3)\n    \n    plt.subplot(1, 2, 2)\n    # Data density\n    hist, bins = np.histogram(np.log10(merged_f), bins=20)\n    bin_centers = (bins[:-1] + bins[1:]) / 2\n    plt.bar(10**bin_centers, hist, width=10**(bins[1]-bins[0]), \n            alpha=0.7, edgecolor='black')\n    plt.xlabel('Frequency (Hz)')\n    plt.ylabel('Number of Data Points')\n    plt.title('Data Density')\n    plt.xscale('log')\n    plt.grid(True, alpha=0.3)\n    \n    plt.tight_layout()\n    plt.show()\n    \n    return merger\n\n# デモンストレーション実行\nmerger = demonstrate_curve_merging()",
   "metadata": {},
   "outputs": []
  },
  {
   "cell_type": "markdown",
   "source": "## 8. 逆解析の基礎\n\n分散曲線から地下構造（S波速度構造）を推定する逆解析の基本的な実装を示します。",
   "metadata": {}
  },
  {
   "cell_type": "code",
   "source": "def visualize_inversion_process():\n    \"\"\"逆解析プロセスの可視化\"\"\"\n    fig = plt.figure(figsize=(16, 10))\n    \n    # 1. Forward modeling concept\n    ax1 = plt.subplot(2, 3, 1)\n    \n    # S-wave velocity model\n    depths = np.array([0, 5, 10, 20, 40, 80])\n    vs = np.array([150, 200, 300, 500, 800])\n    \n    for i in range(len(vs)):\n        ax1.barh(depths[i], vs[i], height=depths[i+1]-depths[i], \n                left=0, alpha=0.7, edgecolor='black')\n        ax1.text(vs[i]/2, (depths[i]+depths[i+1])/2, f'Layer {i+1}\\nVs={vs[i]} m/s',\n                ha='center', va='center', fontsize=9)\n    \n    ax1.set_xlabel('S-wave Velocity (m/s)')\n    ax1.set_ylabel('Depth (m)')\n    ax1.set_title('Layered Earth Model')\n    ax1.invert_yaxis()\n    ax1.grid(True, alpha=0.3)\n    ax1.set_xlim([0, 1000])\n    \n    # 2. Theoretical dispersion curve\n    ax2 = plt.subplot(2, 3, 2)\n    \n    frequencies = np.logspace(-0.5, 1.5, 50)\n    # Simplified theoretical curve (実際にはThomson-Haskell法などを使用)\n    wavelengths = vs[0] * 2 / frequencies  # 簡易的な計算\n    \n    # Depth-dependent velocity\n    theoretical_vel = np.zeros_like(frequencies)\n    for i, f in enumerate(frequencies):\n        depth = wavelengths[i] / 3  # 探査深度\n        # Find velocity at that depth\n        for j in range(len(depths)-1):\n            if depths[j] <= depth < depths[j+1]:\n                theoretical_vel[i] = vs[j]\n                break\n        else:\n            theoretical_vel[i] = vs[-1]\n    \n    ax2.plot(frequencies, theoretical_vel, 'b-', linewidth=2, label='Theoretical')\n    ax2.scatter(frequencies[::3], theoretical_vel[::3] * (1 + 0.05*np.random.randn(len(frequencies[::3]))), \n               c='red', s=50, alpha=0.7, label='Observed + noise')\n    \n    ax2.set_xlabel('Frequency (Hz)')\n    ax2.set_ylabel('Phase Velocity (m/s)')\n    ax2.set_title('Forward Calculation')\n    ax2.set_xscale('log')\n    ax2.grid(True, alpha=0.3)\n    ax2.legend()\n    \n    # 3. Misfit function\n    ax3 = plt.subplot(2, 3, 3)\n    \n    # Parameter space (simplified to 1D for visualization)\n    vs_test = np.linspace(100, 400, 100)\n    misfit = np.zeros_like(vs_test)\n    \n    true_vs = 250\n    for i, v in enumerate(vs_test):\n        # Simplified misfit calculation\n        misfit[i] = np.sum((v/true_vs - 1)**2) + 0.1*np.random.rand()\n    \n    ax3.plot(vs_test, misfit, 'b-', linewidth=2)\n    ax3.axvline(x=true_vs, color='r', linestyle='--', label='True value')\n    ax3.scatter([true_vs], [misfit[np.argmin(np.abs(vs_test-true_vs))]], \n               color='red', s=100, zorder=5)\n    \n    ax3.set_xlabel('Vs of Layer 1 (m/s)')\n    ax3.set_ylabel('Misfit')\n    ax3.set_title('Objective Function')\n    ax3.grid(True, alpha=0.3)\n    ax3.legend()\n    \n    # 4. Optimization algorithms comparison\n    ax4 = plt.subplot(2, 3, 4)\n    \n    iterations = np.arange(50)\n    \n    # Different convergence patterns\n    ga_misfit = 10 * np.exp(-iterations/20) + 0.5 + 0.5*np.random.rand(len(iterations))\n    sa_misfit = 10 * np.exp(-iterations/15) + 0.3 + np.exp(-iterations/5)*np.random.rand(len(iterations))\n    gradient_misfit = 10 * np.exp(-iterations/5) + 0.1\n    \n    ax4.plot(iterations, ga_misfit, 'g-', linewidth=2, label='Genetic Algorithm')\n    ax4.plot(iterations, sa_misfit, 'r-', linewidth=2, label='Simulated Annealing')\n    ax4.plot(iterations, gradient_misfit, 'b-', linewidth=2, label='Gradient Method')\n    \n    ax4.set_xlabel('Iteration')\n    ax4.set_ylabel('Misfit')\n    ax4.set_title('Optimization Algorithm Comparison')\n    ax4.set_yscale('log')\n    ax4.grid(True, alpha=0.3)\n    ax4.legend()\n    \n    # 5. Uncertainty analysis\n    ax5 = plt.subplot(2, 3, 5)\n    \n    # Multiple solutions\n    n_models = 50\n    depth_array = np.linspace(0, 50, 100)\n    \n    for i in range(n_models):\n        # Perturbed models\n        vs_model = np.zeros_like(depth_array)\n        for j, d in enumerate(depth_array):\n            for k in range(len(depths)-1):\n                if depths[k] <= d < depths[k+1]:\n                    vs_model[j] = vs[k] * (1 + 0.1*np.random.randn())\n                    break\n            else:\n                vs_model[j] = vs[-1] * (1 + 0.1*np.random.randn())\n        \n        ax5.plot(vs_model, depth_array, 'gray', alpha=0.2, linewidth=0.5)\n    \n    # Best model\n    vs_best = np.zeros_like(depth_array)\n    for j, d in enumerate(depth_array):\n        for k in range(len(depths)-1):\n            if depths[k] <= d < depths[k+1]:\n                vs_best[j] = vs[k]\n                break\n        else:\n            vs_best[j] = vs[-1]\n    \n    ax5.plot(vs_best, depth_array, 'r-', linewidth=3, label='Best model')\n    \n    ax5.set_xlabel('S-wave Velocity (m/s)')\n    ax5.set_ylabel('Depth (m)')\n    ax5.set_title('Model Uncertainty')\n    ax5.invert_yaxis()\n    ax5.grid(True, alpha=0.3)\n    ax5.legend()\n    ax5.set_xlim([0, 1000])\n    \n    # 6. Resolution analysis\n    ax6 = plt.subplot(2, 3, 6)\n    \n    # Sensitivity kernels for different frequencies\n    depths_kernel = np.linspace(0, 100, 200)\n    \n    for f in [1, 2, 5, 10]:\n        wavelength = 200 / f  # Approximate\n        kernel = np.exp(-3 * depths_kernel / wavelength)\n        kernel = kernel / np.max(kernel)\n        ax6.plot(kernel, depths_kernel, linewidth=2, label=f'{f} Hz')\n    \n    ax6.set_xlabel('Sensitivity')\n    ax6.set_ylabel('Depth (m)')\n    ax6.set_title('Depth Sensitivity Kernels')\n    ax6.invert_yaxis()\n    ax6.grid(True, alpha=0.3)\n    ax6.legend()\n    ax6.set_xlim([0, 1.1])\n    \n    plt.tight_layout()\n    plt.show()\n\n# 実行\nvisualize_inversion_process()",
   "metadata": {},
   "outputs": []
  },
  {
   "cell_type": "markdown",
   "source": "## まとめ\n\nこのチュートリアルでは、微動アレイ観測解析の理論から実践までを包括的に学習しました：\n\n1. **基礎理論**\n   - 地震波の種類（実体波と表面波）\n   - 位相速度と群速度の違い\n   - 表面波の分散性と探査深度の関係\n\n2. **解析手法**\n   - SPAC法の数学的導出とベッセル関数の役割\n   - FK法による方向性を含む解析\n   - データ品質管理と前処理の重要性\n\n3. **実践的な実装**\n   - 複数アレイサイズからの分散曲線の結合\n   - トラブルシューティングと対策\n   - 逆解析による地下構造推定\n\n微動解析は、非破壊的に地下構造を推定できる強力な手法ですが、適切な理論的理解と慎重なデータ処理が成功の鍵となります。",
   "metadata": {}
  },
  {
   "cell_type": "markdown",
   "metadata": {},
   "source": [
    "# 微動アレイ観測解析チュートリアル\n",
    "\n",
    "このノートブックでは、微動アレイ観測データの解析手法を実践的に学びます。\n",
    "\n",
    "## 学習目標\n",
    "1. 微動観測の基本概念を理解する\n",
    "2. SPAC法による位相速度の推定方法を習得する\n",
    "3. 分散曲線から地下構造を推定する流れを理解する\n",
    "\n",
    "## 必要なライブラリ\n",
    "まず、必要なライブラリをインポートしましょう。"
   ]
  }
 ],
 "metadata": {
  "kernelspec": {
   "display_name": "Python 3",
   "language": "python",
   "name": "python3"
  },
  "language_info": {
   "codemirror_mode": {
    "name": "ipython",
    "version": 3
   },
   "file_extension": ".py",
   "mimetype": "text/x-python",
   "name": "python",
   "nbconvert_exporter": "python",
   "pygments_lexer": "ipython3",
   "version": "3.8.0"
  }
 },
 "nbformat": 4,
 "nbformat_minor": 4
}