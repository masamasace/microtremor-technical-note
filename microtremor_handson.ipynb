{
 "cells": [
  {
   "cell_type": "markdown",
   "id": "b685a877",
   "metadata": {},
   "source": [
    "# \u6ce2\u306e\u5f0f\u306e\u30a4\u30e1\u30fc\u30b8\n",
    "\n",
    "$$\n",
    "a(x, t) = A \\sin(kx - \\omega t + \\phi) \\hspace{30pt} (1) \n",
    "$$\n",
    "\n",
    "\u3053\u3053\u3067 $A$ \u306f\u632f\u5e45\u3001$k$ \u306f\u6ce2\u6570\u3001$\\omega$ \u306f\u632f\u52d5\u6570\u3001$\\phi$ \u306f\u4f4d\u76f8\u3092\u8868\u3057\u307e\u3059\u3002\n",
    "\n",
    "\u4ee5\u4e0b\u306e\u30b3\u30fc\u30c9\u3067\u306f\u6ce2\u6570\u3001\u632f\u52d5\u6570\u3001\u4f4d\u76f8\u3092\u5909\u5316\u3055\u305b\u305f\u3068\u304d\u306e\u6ce2\u306e\u5f62\u3092\u30a2\u30cb\u30e1\u30fc\u30b7\u30e7\u30f3\u3067\u63cf\u753b\u3057\u307e\u3059\u3002\n",
    "\n"
   ]
  },
  {
   "cell_type": "code",
   "id": "1hegatpv7vr",
   "metadata": {},
   "outputs": [],
   "source": "import numpy as np\nimport matplotlib.pyplot as plt\nfrom mpl_toolkits.mplot3d import Axes3D\nimport matplotlib.animation as animation\nfrom matplotlib import cm\nfrom IPython.display import HTML\nimport matplotlib\n\n# \u30a2\u30cb\u30e1\u30fc\u30b7\u30e7\u30f3\u306e\u57cb\u3081\u8fbc\u307f\u5236\u9650\u3092\u5897\u3084\u3059\nmatplotlib.rcParams['animation.embed_limit'] = 100  # MB\n\n# \u6642\u7a7a\u9593\u3067\u306e\u6ce2\u306e\u4f1d\u64ad\u53ef\u8996\u5316\n# Y\u8ef8\u3092\u6642\u9593\u8ef8\u3068\u3057\u3066\u4f7f\u7528\n\n# \u30cf\u30fc\u30c9\u30b3\u30fc\u30c9\u3055\u308c\u305f\u30d1\u30e9\u30e1\u30fc\u30bf\nA = 1.0                    # \u632f\u5e45\nk = 1.0                    # \u6ce2\u6570\nomega = 2.0                # \u89d2\u5468\u6ce2\u6570\nphi = 0.0                  # \u521d\u671f\u4f4d\u76f8\n\n# \u5c0e\u51fa\u3055\u308c\u308b\u5024\nwavelength = 2 * np.pi / k\nperiod = 2 * np.pi / omega\nphase_velocity = omega / k\n\nprint(f\"Wave parameters:\")\nprint(f\"  Wave number: k = {k:.2f} rad/m\")\nprint(f\"  Angular frequency: \u03c9 = {omega:.2f} rad/s\")\nprint(f\"  Wavelength: \u03bb = {wavelength:.2f} m\")\nprint(f\"  Period: T = {period:.2f} s\")\nprint(f\"  Phase velocity: c = {phase_velocity:.2f} m/s\")\n\n# \u7a7a\u9593\u3068\u6642\u9593\u306e\u30b0\u30ea\u30c3\u30c9\nx = np.linspace(-5, 10, 200)\nt = np.linspace(0, 10, 200)\nX, T = np.meshgrid(x, t)\n\n# \u6ce2\u52d5\u5834\u306e\u8a08\u7b97\n# a(x,t) = A * sin(kx - \u03c9t + \u03c6)\nZ = A * np.sin(k*X - omega*T + phi)\n\n# \u76e3\u8996\u3059\u308b2\u70b9\nx1, x2 = 0, 2\nidx1 = np.argmin(np.abs(x - x1))\nidx2 = np.argmin(np.abs(x - x2))\n\n# \u56f3\u306e\u4f5c\u6210\nfig = plt.figure(figsize=(16, 12))\n\n# 1\u884c\u76ee: 3D\u6642\u7a7a\u9593\u30d7\u30ed\u30c3\u30c8\nax1 = fig.add_subplot(2, 2, (1, 2), projection='3d')\n\n# 3D\u8868\u9762\u30d7\u30ed\u30c3\u30c8\nsurf = ax1.plot_surface(X, T, Z, cmap=cm.coolwarm, \n                       vmin=-1.5, vmax=1.5, alpha=0.8,\n                       linewidth=0, antialiased=True)\n\n# x=0\u3068x=2\u3067\u306e\u65ad\u9762\u3092\u5f37\u8abf\u8868\u793a\nt_line = np.linspace(0, 10, 100)\nz1_line = A * np.sin(k*x1 - omega*t_line + phi)\nz2_line = A * np.sin(k*x2 - omega*t_line + phi)\n\nax1.plot(np.full_like(t_line, x1), t_line, z1_line, 'r-', linewidth=3, label=f'x = {x1}')\nax1.plot(np.full_like(t_line, x2), t_line, z2_line, 'b-', linewidth=3, label=f'x = {x2}')\n\n# \u8ef8\u30e9\u30d9\u30eb\u3068\u30bf\u30a4\u30c8\u30eb\nax1.set_xlabel('Position x [m]', fontsize=12)\nax1.set_ylabel('Time t [s]', fontsize=12)\nax1.set_zlabel('Amplitude', fontsize=12)\nax1.set_title('Space-Time Wave Propagation', fontsize=14)\nax1.set_zlim(-1.5, 1.5)\nax1.view_init(elev=20, azim=-60)\nax1.legend()\n\n# 2\u884c\u76ee: \u6642\u9593-\u632f\u5e45\u30b0\u30e9\u30d5\nax2 = fig.add_subplot(2, 2, 3)\nax3 = fig.add_subplot(2, 2, 4)\n\n# x=0\u3067\u306e\u6642\u9593\u5909\u5316\nax2.plot(t, Z[:, idx1], 'r-', linewidth=2)\nax2.set_xlabel('Time t [s]', fontsize=12)\nax2.set_ylabel('Amplitude', fontsize=12)\nax2.set_title(f'Temporal Variation at x = {x1} m', fontsize=14)\nax2.set_ylim(-1.5, 1.5)\nax2.grid(True, alpha=0.3)\nax2.axhline(y=0, color='k', linestyle='-', alpha=0.3)\n\n# x=2\u3067\u306e\u6642\u9593\u5909\u5316\nax3.plot(t, Z[:, idx2], 'b-', linewidth=2)\nax3.set_xlabel('Time t [s]', fontsize=12)\nax3.set_ylabel('Amplitude', fontsize=12)\nax3.set_title(f'Temporal Variation at x = {x2} m', fontsize=14)\nax3.set_ylim(-1.5, 1.5)\nax3.grid(True, alpha=0.3)\nax3.axhline(y=0, color='k', linestyle='-', alpha=0.3)\n\n# \u4f4d\u76f8\u5dee\u3092\u8868\u793a\nphase_diff = k * (x2 - x1)\ntime_diff = phase_diff / omega\nax3.text(0.05, 0.95, f'Phase difference: {phase_diff:.2f} rad\\nTime delay: {time_diff:.2f} s', \n         transform=ax3.transAxes, verticalalignment='top',\n         bbox=dict(boxstyle='round', facecolor='wheat', alpha=0.8))\n\nplt.tight_layout()\nplt.show()\n\n# \u30a2\u30cb\u30e1\u30fc\u30b7\u30e7\u30f3\u7248\nfig_anim = plt.figure(figsize=(16, 10))\n\n# \u30a2\u30cb\u30e1\u30fc\u30b7\u30e7\u30f3\u7528\u306e3D\u30d7\u30ed\u30c3\u30c8\nax_anim = fig_anim.add_subplot(1, 2, 1, projection='3d')\nax_time = fig_anim.add_subplot(1, 2, 2)\n\n# \u6642\u9593\u7a93\u306e\u8a2d\u5b9a\ntime_window = 3.0  # \u8868\u793a\u3059\u308b\u6642\u9593\u7a93\u306e\u5e45\ndt = 0.05\nn_frames = 100\n\ndef init_anim():\n    ax_anim.clear()\n    ax_time.clear()\n    return []\n\ndef animate(frame):\n    ax_anim.clear()\n    ax_time.clear()\n    \n    current_time = frame * dt\n    \n    # \u8868\u793a\u3059\u308b\u6642\u9593\u7bc4\u56f2\n    t_start = max(0, current_time - time_window)\n    t_end = current_time\n    \n    # \u6642\u9593\u30b0\u30ea\u30c3\u30c9\u306e\u4f5c\u6210\n    t_anim = np.linspace(t_start, t_end, 50)\n    X_anim, T_anim = np.meshgrid(x, t_anim)\n    Z_anim = A * np.sin(k*X_anim - omega*T_anim + phi)\n    \n    # 3D\u8868\u9762\u30d7\u30ed\u30c3\u30c8\n    surf = ax_anim.plot_surface(X_anim, T_anim, Z_anim, cmap=cm.coolwarm,\n                               vmin=-1.5, vmax=1.5, alpha=0.8,\n                               linewidth=0, antialiased=True)\n    \n    # \u73fe\u5728\u6642\u523b\u3067\u306e\u6ce2\u5f62\u3092\u5f37\u8abf\n    current_wave = A * np.sin(k*x - omega*current_time + phi)\n    ax_anim.plot(x, np.full_like(x, current_time), current_wave, 'k-', linewidth=3)\n    \n    # \u76e3\u8996\u70b9\u3067\u306e\u8ecc\u8de1\n    t_trace = t_anim\n    z1_trace = A * np.sin(k*x1 - omega*t_trace + phi)\n    z2_trace = A * np.sin(k*x2 - omega*t_trace + phi)\n    ax_anim.plot(np.full_like(t_trace, x1), t_trace, z1_trace, 'r-', linewidth=2)\n    ax_anim.plot(np.full_like(t_trace, x2), t_trace, z2_trace, 'b-', linewidth=2)\n    \n    ax_anim.set_xlabel('Position x [m]')\n    ax_anim.set_ylabel('Time t [s]')\n    ax_anim.set_zlabel('Amplitude')\n    ax_anim.set_title(f'Wave Propagation (t = {current_time:.2f} s)')\n    ax_anim.set_xlim(-5, 10)\n    ax_anim.set_ylim(t_start, t_end)\n    ax_anim.set_zlim(-1.5, 1.5)\n    ax_anim.view_init(elev=20, azim=-60)\n    \n    # \u53f3\u5074\u306e\u30d1\u30cd\u30eb\uff1a\u73fe\u5728\u6642\u523b\u3067\u306e\u7a7a\u9593\u5206\u5e03\n    ax_time.plot(x, current_wave, 'k-', linewidth=2)\n    ax_time.plot(x1, A * np.sin(k*x1 - omega*current_time + phi), 'ro', markersize=10)\n    ax_time.plot(x2, A * np.sin(k*x2 - omega*current_time + phi), 'bo', markersize=10)\n    ax_time.set_xlabel('Position x [m]')\n    ax_time.set_ylabel('Amplitude')\n    ax_time.set_title(f'Spatial Distribution at t = {current_time:.2f} s')\n    ax_time.set_xlim(-5, 10)\n    ax_time.set_ylim(-1.5, 1.5)\n    ax_time.grid(True, alpha=0.3)\n    ax_time.axhline(y=0, color='k', linestyle='-', alpha=0.3)\n    ax_time.axvline(x=x1, color='r', linestyle='--', alpha=0.5)\n    ax_time.axvline(x=x2, color='b', linestyle='--', alpha=0.5)\n    \n    return [surf]\n\n# \u30a2\u30cb\u30e1\u30fc\u30b7\u30e7\u30f3\u306e\u4f5c\u6210\nanim = animation.FuncAnimation(fig_anim, animate, init_func=init_anim,\n                              frames=n_frames, interval=50,\n                              blit=False, repeat=True)\n\nplt.tight_layout()\nplt.show()\n\n# HTML\u3068\u3057\u3066\u8868\u793a\nHTML(anim.to_jshtml())",
   "execution_count": 1
  }
 ],
 "metadata": {
  "kernelspec": {
   "display_name": "Python 3",
   "language": "python",
   "name": "python3"
  },
  "language_info": {
   "codemirror_mode": {
    "name": "ipython",
    "version": 3
   },
   "file_extension": ".py",
   "mimetype": "text/x-python",
   "name": "python",
   "nbconvert_exporter": "python",
   "pygments_lexer": "ipython3",
   "version": "3.11.13"
  }
 },
 "nbformat": 4,
 "nbformat_minor": 5
}