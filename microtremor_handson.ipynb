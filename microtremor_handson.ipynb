{
 "cells": [
  {
   "cell_type": "markdown",
   "id": "b685a877",
   "metadata": {},
   "source": [
    "# 波の式のイメージ\n",
    "\n",
    "$$\n",
    "a(x, t) = A \\sin(kx - \\omega t + \\phi) \\hspace{30pt} (1) \n",
    "$$\n",
    "\n",
    "ここで $A$ は振幅、$k$ は波数、$\\omega$ は振動数、$\\phi$ は位相を表します。\n",
    "\n",
    "以下のコードでは波数、振動数、位相を変化させたときの波の形をアニメーションで描画します。"
   ]
  },
  {
   "cell_type": "code",
   "id": "1hegatpv7vr",
   "metadata": {},
   "outputs": [],
   "source": "import numpy as np\nimport matplotlib.pyplot as plt\nfrom mpl_toolkits.mplot3d import Axes3D\nimport matplotlib.animation as animation\nfrom matplotlib import cm\nfrom IPython.display import HTML\nimport matplotlib\n\n# アニメーションの埋め込み制限を増やす\nmatplotlib.rcParams['animation.embed_limit'] = 100  # MB\n\n# 時空間での波の伝播可視化\n# Y軸を時間軸として使用\n\n# ハードコードされたパラメータ\nA = 1.0                    # 振幅\nk = 1.0                    # 波数\nomega = 2.0                # 角周波数\nphi = 0.0                  # 初期位相\n\n# 導出される値\nwavelength = 2 * np.pi / k\nperiod = 2 * np.pi / omega\nphase_velocity = omega / k\n\nprint(f\"Wave parameters:\")\nprint(f\"  Wave number: k = {k:.2f} rad/m\")\nprint(f\"  Angular frequency: ω = {omega:.2f} rad/s\")\nprint(f\"  Wavelength: λ = {wavelength:.2f} m\")\nprint(f\"  Period: T = {period:.2f} s\")\nprint(f\"  Phase velocity: c = {phase_velocity:.2f} m/s\")\n\n# 空間と時間のグリッド\nx = np.linspace(-5, 10, 200)\nt = np.linspace(0, 10, 200)\nX, T = np.meshgrid(x, t)\n\n# 波動場の計算\n# a(x,t) = A * sin(kx - ωt + φ)\nZ = A * np.sin(k*X - omega*T + phi)\n\n# 監視する2点\nx1, x2 = 0, 2\nidx1 = np.argmin(np.abs(x - x1))\nidx2 = np.argmin(np.abs(x - x2))\n\n# 図の作成\nfig = plt.figure(figsize=(16, 12))\n\n# 1行目: 3D時空間プロット\nax1 = fig.add_subplot(2, 2, (1, 2), projection='3d')\n\n# 3D表面プロット\nsurf = ax1.plot_surface(X, T, Z, cmap=cm.coolwarm, \n                       vmin=-1.5, vmax=1.5, alpha=0.8,\n                       linewidth=0, antialiased=True)\n\n# x=0とx=2での断面を強調表示\nt_line = np.linspace(0, 10, 100)\nz1_line = A * np.sin(k*x1 - omega*t_line + phi)\nz2_line = A * np.sin(k*x2 - omega*t_line + phi)\n\nax1.plot(np.full_like(t_line, x1), t_line, z1_line, 'r-', linewidth=3, label=f'x = {x1}')\nax1.plot(np.full_like(t_line, x2), t_line, z2_line, 'b-', linewidth=3, label=f'x = {x2}')\n\n# 軸ラベルとタイトル\nax1.set_xlabel('Position x [m]', fontsize=12)\nax1.set_ylabel('Time t [s]', fontsize=12)\nax1.set_zlabel('Amplitude', fontsize=12)\nax1.set_title('Space-Time Wave Propagation', fontsize=14)\nax1.set_zlim(-1.5, 1.5)\nax1.view_init(elev=20, azim=-60)\nax1.legend()\n\n# 2行目: 時間-振幅グラフ\nax2 = fig.add_subplot(2, 2, 3)\nax3 = fig.add_subplot(2, 2, 4)\n\n# x=0での時間変化\nax2.plot(t, Z[:, idx1], 'r-', linewidth=2)\nax2.set_xlabel('Time t [s]', fontsize=12)\nax2.set_ylabel('Amplitude', fontsize=12)\nax2.set_title(f'Temporal Variation at x = {x1} m', fontsize=14)\nax2.set_ylim(-1.5, 1.5)\nax2.grid(True, alpha=0.3)\nax2.axhline(y=0, color='k', linestyle='-', alpha=0.3)\n\n# x=2での時間変化\nax3.plot(t, Z[:, idx2], 'b-', linewidth=2)\nax3.set_xlabel('Time t [s]', fontsize=12)\nax3.set_ylabel('Amplitude', fontsize=12)\nax3.set_title(f'Temporal Variation at x = {x2} m', fontsize=14)\nax3.set_ylim(-1.5, 1.5)\nax3.grid(True, alpha=0.3)\nax3.axhline(y=0, color='k', linestyle='-', alpha=0.3)\n\n# 位相差を表示\nphase_diff = k * (x2 - x1)\ntime_diff = phase_diff / omega\nax3.text(0.05, 0.95, f'Phase difference: {phase_diff:.2f} rad\\nTime delay: {time_diff:.2f} s', \n         transform=ax3.transAxes, verticalalignment='top',\n         bbox=dict(boxstyle='round', facecolor='wheat', alpha=0.8))\n\nplt.tight_layout()\nplt.show()\n\n# アニメーション版\nfig_anim = plt.figure(figsize=(16, 10))\n\n# アニメーション用のプロット\nax_contour = fig_anim.add_subplot(1, 2, 1)\nax_time = fig_anim.add_subplot(1, 2, 2)\n\n# 時間窓の設定\ntime_window = 5.0  # 表示する時間窓の幅\ndt = 0.05\nn_frames = 100\n\ndef init_anim():\n    ax_contour.clear()\n    ax_time.clear()\n    return []\n\ndef animate(frame):\n    ax_contour.clear()\n    ax_time.clear()\n    \n    current_time = frame * dt\n    \n    # 表示する時間範囲（t=0から開始）\n    t_start = 0\n    t_end = min(current_time + time_window, 10)\n    \n    # 時間グリッドの作成\n    t_anim = np.linspace(t_start, t_end, 100)\n    x_anim = np.linspace(-5, 10, 100)\n    X_anim, T_anim = np.meshgrid(x_anim, t_anim)\n    Z_anim = A * np.sin(k*X_anim - omega*T_anim + phi)\n    \n    # カラーコントアプロット\n    contour = ax_contour.contourf(X_anim, T_anim, Z_anim, \n                                  levels=np.linspace(-1, 1, 21),\n                                  cmap=cm.coolwarm, extend='both')\n    \n    # 等高線を追加\n    ax_contour.contour(X_anim, T_anim, Z_anim, \n                       levels=np.linspace(-1, 1, 11),\n                       colors='black', alpha=0.3, linewidths=0.5)\n    \n    # 現在時刻を示す線\n    ax_contour.axhline(y=current_time, color='green', linewidth=2, linestyle='--', label='Current time')\n    \n    # 監視点の位置を示す線\n    ax_contour.axvline(x=x1, color='red', linewidth=1, linestyle=':', alpha=0.7)\n    ax_contour.axvline(x=x2, color='blue', linewidth=1, linestyle=':', alpha=0.7)\n    \n    # 監視点での軌跡\n    t_trace = t_anim[t_anim <= current_time]\n    if len(t_trace) > 0:\n        z1_trace = A * np.sin(k*x1 - omega*t_trace + phi)\n        z2_trace = A * np.sin(k*x2 - omega*t_trace + phi)\n        \n        # 軌跡を白線で表示\n        ax_contour.plot(np.full_like(t_trace, x1), t_trace, 'w-', linewidth=2, alpha=0.8)\n        ax_contour.plot(np.full_like(t_trace, x2), t_trace, 'w-', linewidth=2, alpha=0.8)\n    \n    ax_contour.set_xlabel('Position x [m]', fontsize=12)\n    ax_contour.set_ylabel('Time t [s]', fontsize=12)\n    ax_contour.set_title(f'Space-Time Wave Field (Contour Plot)', fontsize=14)\n    ax_contour.set_xlim(-5, 10)\n    ax_contour.set_ylim(t_start, t_end)\n    \n    # カラーバーを追加（初回のみ）\n    if frame == 0:\n        cbar = plt.colorbar(contour, ax=ax_contour)\n        cbar.set_label('Amplitude', fontsize=12)\n    \n    # 右側のパネル：現在時刻での空間分布\n    current_wave = A * np.sin(k*x - omega*current_time + phi)\n    ax_time.plot(x, current_wave, 'k-', linewidth=2)\n    \n    # 監視点をマーク\n    ax_time.plot(x1, A * np.sin(k*x1 - omega*current_time + phi), 'ro', markersize=10, label=f'x = {x1}')\n    ax_time.plot(x2, A * np.sin(k*x2 - omega*current_time + phi), 'bo', markersize=10, label=f'x = {x2}')\n    \n    ax_time.set_xlabel('Position x [m]', fontsize=12)\n    ax_time.set_ylabel('Amplitude', fontsize=12)\n    ax_time.set_title(f'Spatial Distribution at t = {current_time:.2f} s', fontsize=14)\n    ax_time.set_xlim(-5, 10)\n    ax_time.set_ylim(-1.5, 1.5)\n    ax_time.grid(True, alpha=0.3)\n    ax_time.axhline(y=0, color='k', linestyle='-', alpha=0.3)\n    ax_time.axvline(x=x1, color='red', linestyle=':', alpha=0.5)\n    ax_time.axvline(x=x2, color='blue', linestyle=':', alpha=0.5)\n    ax_time.legend()\n    \n    # 波の情報を表示\n    phase_at_x1 = (k*x1 - omega*current_time + phi) % (2*np.pi)\n    phase_at_x2 = (k*x2 - omega*current_time + phi) % (2*np.pi)\n    info_text = f'Phase at x={x1}: {phase_at_x1:.2f} rad\\nPhase at x={x2}: {phase_at_x2:.2f} rad'\n    ax_time.text(0.05, 0.95, info_text, transform=ax_time.transAxes, \n                verticalalignment='top', fontsize=10,\n                bbox=dict(boxstyle='round', facecolor='wheat', alpha=0.8))\n    \n    return []\n\n# アニメーションの作成\nanim = animation.FuncAnimation(fig_anim, animate, init_func=init_anim,\n                              frames=n_frames, interval=50,\n                              blit=False, repeat=True)\n\nplt.tight_layout()\nplt.show()\n\n# HTMLとして表示\nHTML(anim.to_jshtml())"
  }
 ],
 "metadata": {
  "kernelspec": {
   "display_name": "Python 3",
   "language": "python",
   "name": "python3"
  },
  "language_info": {
   "codemirror_mode": {
    "name": "ipython",
    "version": 3
   },
   "file_extension": ".py",
   "mimetype": "text/x-python",
   "name": "python",
   "nbconvert_exporter": "python",
   "pygments_lexer": "ipython3",
   "version": "3.11.13"
  }
 },
 "nbformat": 4,
 "nbformat_minor": 5
}