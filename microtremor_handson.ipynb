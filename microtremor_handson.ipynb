{
 "cells": [
  {
   "cell_type": "markdown",
   "id": "b685a877",
   "metadata": {},
   "source": [
    "# \u6ce2\u306e\u5f0f\u306e\u30a4\u30e1\u30fc\u30b8\n",
    "\n",
    "$$\n",
    "a(x, t) = A \\sin(kx - \\omega t + \\phi) \\hspace{30pt} (1) \n",
    "$$\n",
    "\n",
    "\u3053\u3053\u3067 $A$ \u306f\u632f\u5e45\u3001$k$ \u306f\u6ce2\u6570\u3001$\\omega$ \u306f\u632f\u52d5\u6570\u3001$\\phi$ \u306f\u4f4d\u76f8\u3092\u8868\u3057\u307e\u3059\u3002\n",
    "\n",
    "\u4ee5\u4e0b\u306e\u30b3\u30fc\u30c9\u3067\u306f\u6ce2\u6570\u3001\u632f\u52d5\u6570\u3001\u4f4d\u76f8\u3092\u5909\u5316\u3055\u305b\u305f\u3068\u304d\u306e\u6ce2\u306e\u5f62\u3092\u30a2\u30cb\u30e1\u30fc\u30b7\u30e7\u30f3\u3067\u63cf\u753b\u3057\u307e\u3059\u3002"
   ]
  },
  {
   "cell_type": "code",
   "id": "1hegatpv7vr",
   "metadata": {},
   "outputs": [],
   "source": "import numpy as np\nimport matplotlib.pyplot as plt\nfrom mpl_toolkits.mplot3d import Axes3D\nimport matplotlib.animation as animation\nfrom matplotlib import cm\nfrom IPython.display import HTML\nimport matplotlib\n\n# \u30a2\u30cb\u30e1\u30fc\u30b7\u30e7\u30f3\u306e\u57cb\u3081\u8fbc\u307f\u5236\u9650\u3092\u5897\u3084\u3059\nmatplotlib.rcParams['animation.embed_limit'] = 100  # MB\n\n# \u6642\u7a7a\u9593\u3067\u306e\u6ce2\u306e\u4f1d\u64ad\u53ef\u8996\u5316\n# Y\u8ef8\u3092\u6642\u9593\u8ef8\u3068\u3057\u3066\u4f7f\u7528\n\n# \u30cf\u30fc\u30c9\u30b3\u30fc\u30c9\u3055\u308c\u305f\u30d1\u30e9\u30e1\u30fc\u30bf\nA = 1.0                    # \u632f\u5e45\nk = 1.0                    # \u6ce2\u6570\nomega = 2.0                # \u89d2\u5468\u6ce2\u6570\nphi = 0.0                  # \u521d\u671f\u4f4d\u76f8\n\n# \u5c0e\u51fa\u3055\u308c\u308b\u5024\nwavelength = 2 * np.pi / k\nperiod = 2 * np.pi / omega\nphase_velocity = omega / k\n\nprint(f\"Wave parameters:\")\nprint(f\"  Wave number: k = {k:.2f} rad/m\")\nprint(f\"  Angular frequency: \u03c9 = {omega:.2f} rad/s\")\nprint(f\"  Wavelength: \u03bb = {wavelength:.2f} m\")\nprint(f\"  Period: T = {period:.2f} s\")\nprint(f\"  Phase velocity: c = {phase_velocity:.2f} m/s\")\n\n# \u7a7a\u9593\u3068\u6642\u9593\u306e\u30b0\u30ea\u30c3\u30c9\nx = np.linspace(-5, 10, 200)\nt = np.linspace(0, 10, 200)\nX, T = np.meshgrid(x, t)\n\n# \u6ce2\u52d5\u5834\u306e\u8a08\u7b97\n# a(x,t) = A * sin(kx - \u03c9t + \u03c6)\nZ = A * np.sin(k*X - omega*T + phi)\n\n# \u76e3\u8996\u3059\u308b2\u70b9\nx1, x2 = 0, 2\nidx1 = np.argmin(np.abs(x - x1))\nidx2 = np.argmin(np.abs(x - x2))\n\n# \u30a2\u30cb\u30e1\u30fc\u30b7\u30e7\u30f3\u7248\nfig_anim = plt.figure(figsize=(16, 10))\n\n# \u30a2\u30cb\u30e1\u30fc\u30b7\u30e7\u30f3\u7528\u306e\u30d7\u30ed\u30c3\u30c8\nax_contour = fig_anim.add_subplot(1, 2, 1)\nax_time = fig_anim.add_subplot(1, 2, 2)\n\n# \u56fa\u5b9a\u3055\u308c\u305f\u6642\u9593\u7bc4\u56f2\nt_start = 0\nt_end = 10\ndt = 0.05\nn_frames = int(t_end / dt)\n\n# \u56fa\u5b9a\u3055\u308c\u305f\u30b0\u30ea\u30c3\u30c9\uff08\u30a2\u30cb\u30e1\u30fc\u30b7\u30e7\u30f3\u5168\u4f53\u3067\u5171\u901a\uff09\nt_fixed = np.linspace(t_start, t_end, 200)\nx_fixed = np.linspace(-5, 10, 200)\nX_fixed, T_fixed = np.meshgrid(x_fixed, t_fixed)\nZ_fixed = A * np.sin(k*X_fixed - omega*T_fixed + phi)\n\ndef init_anim():\n    ax_contour.clear()\n    ax_time.clear()\n    return []\n\ndef animate(frame):\n    ax_contour.clear()\n    ax_time.clear()\n    \n    current_time = frame * dt\n    \n    # \u30ab\u30e9\u30fc\u30b3\u30f3\u30c8\u30a2\u30d7\u30ed\u30c3\u30c8\uff08\u56fa\u5b9a\u3055\u308c\u305f\u30c7\u30fc\u30bf\u3092\u4f7f\u7528\uff09\n    contour = ax_contour.contourf(X_fixed, T_fixed, Z_fixed, \n                                  levels=np.linspace(-1, 1, 21),\n                                  cmap=cm.coolwarm, extend='both')\n    \n    # \u7b49\u9ad8\u7dda\u3092\u8ffd\u52a0\n    ax_contour.contour(X_fixed, T_fixed, Z_fixed, \n                       levels=np.linspace(-1, 1, 11),\n                       colors='black', alpha=0.3, linewidths=0.5)\n    \n    # \u73fe\u5728\u6642\u523b\u3092\u793a\u3059\u7dda\uff08\u3053\u308c\u3060\u3051\u304c\u52d5\u304f\uff09\n    ax_contour.axhline(y=current_time, color='green', linewidth=3, linestyle='-', label='Current time')\n    \n    # \u76e3\u8996\u70b9\u306e\u4f4d\u7f6e\u3092\u793a\u3059\u7dda\n    ax_contour.axvline(x=x1, color='red', linewidth=1, linestyle=':', alpha=0.7)\n    ax_contour.axvline(x=x2, color='blue', linewidth=1, linestyle=':', alpha=0.7)\n    \n    # \u76e3\u8996\u70b9\u3067\u306e\u8ecc\u8de1\u3092\u5f37\u8abf\n    ax_contour.plot(np.full_like(t_fixed, x1), t_fixed, 'w-', linewidth=2, alpha=0.5)\n    ax_contour.plot(np.full_like(t_fixed, x2), t_fixed, 'w-', linewidth=2, alpha=0.5)\n    \n    ax_contour.set_xlabel('Position x [m]', fontsize=12)\n    ax_contour.set_ylabel('Time t [s]', fontsize=12)\n    ax_contour.set_title(f'Space-Time Wave Field (Contour Plot)', fontsize=14)\n    ax_contour.set_xlim(-5, 10)\n    ax_contour.set_ylim(t_start, t_end)\n    \n    # \u30ab\u30e9\u30fc\u30d0\u30fc\u3092\u8ffd\u52a0\uff08\u521d\u56de\u306e\u307f\uff09\n    if frame == 0:\n        cbar = plt.colorbar(contour, ax=ax_contour)\n        cbar.set_label('Amplitude', fontsize=12)\n    \n    # \u53f3\u5074\u306e\u30d1\u30cd\u30eb\uff1a\u73fe\u5728\u6642\u523b\u3067\u306e\u7a7a\u9593\u5206\u5e03\n    current_wave = A * np.sin(k*x - omega*current_time + phi)\n    ax_time.plot(x, current_wave, 'k-', linewidth=2)\n    \n    # \u76e3\u8996\u70b9\u3092\u30de\u30fc\u30af\n    ax_time.plot(x1, A * np.sin(k*x1 - omega*current_time + phi), 'ro', markersize=10, label=f'x = {x1}')\n    ax_time.plot(x2, A * np.sin(k*x2 - omega*current_time + phi), 'bo', markersize=10, label=f'x = {x2}')\n    \n    ax_time.set_xlabel('Position x [m]', fontsize=12)\n    ax_time.set_ylabel('Amplitude', fontsize=12)\n    ax_time.set_title(f'Spatial Distribution at t = {current_time:.2f} s', fontsize=14)\n    ax_time.set_xlim(-5, 10)\n    ax_time.set_ylim(-1.5, 1.5)\n    ax_time.grid(True, alpha=0.3)\n    ax_time.axhline(y=0, color='k', linestyle='-', alpha=0.3)\n    ax_time.axvline(x=x1, color='red', linestyle=':', alpha=0.5)\n    ax_time.axvline(x=x2, color='blue', linestyle=':', alpha=0.5)\n    ax_time.legend()\n    \n    # \u6ce2\u306e\u60c5\u5831\u3092\u8868\u793a\n    phase_at_x1 = (k*x1 - omega*current_time + phi) % (2*np.pi)\n    phase_at_x2 = (k*x2 - omega*current_time + phi) % (2*np.pi)\n    info_text = f'Phase at x={x1}: {phase_at_x1:.2f} rad\\nPhase at x={x2}: {phase_at_x2:.2f} rad'\n    ax_time.text(0.05, 0.95, info_text, transform=ax_time.transAxes, \n                verticalalignment='top', fontsize=10,\n                bbox=dict(boxstyle='round', facecolor='wheat', alpha=0.8))\n    \n    return []\n\n# \u30a2\u30cb\u30e1\u30fc\u30b7\u30e7\u30f3\u306e\u4f5c\u6210\nanim = animation.FuncAnimation(fig_anim, animate, init_func=init_anim,\n                              frames=n_frames, interval=50,\n                              blit=False, repeat=True)\n\n# HTML\u3068\u3057\u3066\u8868\u793a\nHTML(anim.to_jshtml())",
   "execution_count": 1
  },
  {
   "cell_type": "code",
   "id": "f8a2kx03hi6",
   "source": "# \u9759\u6b62\u753b\u7248\uff1a\u6642\u7a7a\u9593\u6ce2\u52d5\u5834\u306e\u53ef\u8996\u5316\nfig_static = plt.figure(figsize=(16, 12))\n\n# 1\u884c\u76ee: \u6642\u7a7a\u9593\u30b3\u30f3\u30c8\u30a2\u30d7\u30ed\u30c3\u30c8\nax1 = fig_static.add_subplot(2, 2, (1, 2))\n\n# \u30ab\u30e9\u30fc\u30b3\u30f3\u30c8\u30a2\u30d7\u30ed\u30c3\u30c8\ncontour = ax1.contourf(X, T, Z, levels=np.linspace(-1, 1, 21), cmap=cm.coolwarm, extend='both')\nax1.contour(X, T, Z, levels=np.linspace(-1, 1, 11), colors='black', alpha=0.3, linewidths=0.5)\n\n# \u76e3\u8996\u70b9\u306e\u4f4d\u7f6e\nax1.axvline(x=x1, color='red', linewidth=2, linestyle='--', alpha=0.8, label=f'x = {x1} m')\nax1.axvline(x=x2, color='blue', linewidth=2, linestyle='--', alpha=0.8, label=f'x = {x2} m')\n\n# \u6ce2\u9762\uff08\u7b49\u4f4d\u76f8\u7dda\uff09\u3092\u6570\u672c\u63cf\u753b\nfor phase in np.arange(0, 10, wavelength/phase_velocity):\n    x_phase = x\n    t_phase = phase + k*x_phase/omega\n    mask = (t_phase >= 0) & (t_phase <= 10)\n    ax1.plot(x_phase[mask], t_phase[mask], 'k--', alpha=0.5, linewidth=1)\n\nax1.set_xlabel('Position x [m]', fontsize=12)\nax1.set_ylabel('Time t [s]', fontsize=12)\nax1.set_title('Space-Time Wave Field', fontsize=14)\nax1.set_xlim(-5, 10)\nax1.set_ylim(0, 10)\nax1.legend(loc='upper right')\n\n# \u30ab\u30e9\u30fc\u30d0\u30fc\ncbar = plt.colorbar(contour, ax=ax1)\ncbar.set_label('Amplitude', fontsize=12)\n\n# 2\u884c\u76ee: \u6642\u9593-\u632f\u5e45\u30b0\u30e9\u30d5\nax2 = fig_static.add_subplot(2, 2, 3)\nax3 = fig_static.add_subplot(2, 2, 4)\n\n# x=0\u3067\u306e\u6642\u9593\u5909\u5316\nax2.plot(t, Z[:, idx1], 'r-', linewidth=2)\nax2.set_xlabel('Time t [s]', fontsize=12)\nax2.set_ylabel('Amplitude', fontsize=12)\nax2.set_title(f'Temporal Variation at x = {x1} m', fontsize=14)\nax2.set_ylim(-1.5, 1.5)\nax2.grid(True, alpha=0.3)\nax2.axhline(y=0, color='k', linestyle='-', alpha=0.3)\n\n# \u7279\u5b9a\u306e\u6642\u523b\u3092\u30de\u30fc\u30af\nhighlight_times = [0, period/4, period/2, 3*period/4, period]\nfor ht in highlight_times:\n    if ht <= 10:\n        ax2.axvline(x=ht, color='gray', linestyle=':', alpha=0.5)\n        ax2.plot(ht, A * np.sin(k*x1 - omega*ht + phi), 'ko', markersize=8)\n\n# x=2\u3067\u306e\u6642\u9593\u5909\u5316\nax3.plot(t, Z[:, idx2], 'b-', linewidth=2)\nax3.set_xlabel('Time t [s]', fontsize=12)\nax3.set_ylabel('Amplitude', fontsize=12)\nax3.set_title(f'Temporal Variation at x = {x2} m', fontsize=14)\nax3.set_ylim(-1.5, 1.5)\nax3.grid(True, alpha=0.3)\nax3.axhline(y=0, color='k', linestyle='-', alpha=0.3)\n\n# \u7279\u5b9a\u306e\u6642\u523b\u3092\u30de\u30fc\u30af\nfor ht in highlight_times:\n    if ht <= 10:\n        ax3.axvline(x=ht, color='gray', linestyle=':', alpha=0.5)\n        ax3.plot(ht, A * np.sin(k*x2 - omega*ht + phi), 'ko', markersize=8)\n\n# \u4f4d\u76f8\u5dee\u3068\u6642\u9593\u9045\u5ef6\u306e\u60c5\u5831\nphase_diff = k * (x2 - x1)\ntime_diff = phase_diff / omega\nax3.text(0.05, 0.95, f'Phase difference: {phase_diff:.2f} rad\\nTime delay: {time_diff:.2f} s', \n         transform=ax3.transAxes, verticalalignment='top',\n         bbox=dict(boxstyle='round', facecolor='wheat', alpha=0.8))",
   "metadata": {},
   "outputs": [],
   "execution_count": 2
  }
 ],
 "metadata": {
  "kernelspec": {
   "display_name": "Python 3",
   "language": "python",
   "name": "python3"
  },
  "language_info": {
   "codemirror_mode": {
    "name": "ipython",
    "version": 3
   },
   "file_extension": ".py",
   "mimetype": "text/x-python",
   "name": "python",
   "nbconvert_exporter": "python",
   "pygments_lexer": "ipython3",
   "version": "3.11.13"
  }
 },
 "nbformat": 4,
 "nbformat_minor": 5
}